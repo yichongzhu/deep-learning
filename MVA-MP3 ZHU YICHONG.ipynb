{
  "nbformat": 4,
  "nbformat_minor": 0,
  "metadata": {
    "colab": {
      "name": "DL3 RL",
      "version": "0.3.2",
      "provenance": [],
      "collapsed_sections": []
    },
    "kernelspec": {
      "name": "python3",
      "display_name": "Python 3"
    }
  },
  "cells": [
    {
      "metadata": {
        "id": "QdvPNy72GGuJ",
        "colab_type": "code",
        "outputId": "8d34f5e1-647e-4d66-ac9d-ab46589622fc",
        "colab": {
          "base_uri": "https://localhost:8080/",
          "height": 338
        }
      },
      "cell_type": "code",
      "source": [
        "!pip install FFmpeg\n",
        "!pip install scikit-video\n",
        "\n",
        "import keras\n",
        "import numpy as np\n",
        "import io\n",
        "import base64\n",
        "from IPython.display import HTML\n",
        "import skvideo.io\n",
        "import cv2\n",
        "import json\n",
        "\n",
        "from keras.models import Sequential,model_from_json\n",
        "from keras.layers.core import Dense\n",
        "from keras.optimizers import sgd, Adam\n",
        "from keras.layers import Conv2D, MaxPooling2D, Activation, AveragePooling2D,Reshape,BatchNormalization,Flatten,Dropout"
      ],
      "execution_count": 1,
      "outputs": [
        {
          "output_type": "stream",
          "text": [
            "Collecting FFmpeg\n",
            "  Downloading https://files.pythonhosted.org/packages/f0/cc/3b7408b8ecf7c1d20ad480c3eaed7619857bf1054b690226e906fdf14258/ffmpeg-1.4.tar.gz\n",
            "Building wheels for collected packages: FFmpeg\n",
            "  Building wheel for FFmpeg (setup.py) ... \u001b[?25ldone\n",
            "\u001b[?25h  Stored in directory: /root/.cache/pip/wheels/b6/68/c3/a05a35f647ba871e5572b9bbfc0b95fd1c6637a2219f959e7a\n",
            "Successfully built FFmpeg\n",
            "Installing collected packages: FFmpeg\n",
            "Successfully installed FFmpeg-1.4\n",
            "Collecting scikit-video\n",
            "\u001b[?25l  Downloading https://files.pythonhosted.org/packages/b1/a6/c69cad508139a342810ae46e946ebb3256aa6e42f690d901bb68f50582e3/scikit_video-1.1.11-py2.py3-none-any.whl (2.3MB)\n",
            "\u001b[K    100% |████████████████████████████████| 2.3MB 12.4MB/s \n",
            "\u001b[?25hRequirement already satisfied: numpy in /usr/local/lib/python3.6/dist-packages (from scikit-video) (1.14.6)\n",
            "Requirement already satisfied: pillow in /usr/local/lib/python3.6/dist-packages (from scikit-video) (4.0.0)\n",
            "Requirement already satisfied: scipy in /usr/local/lib/python3.6/dist-packages (from scikit-video) (1.1.0)\n",
            "Requirement already satisfied: olefile in /usr/local/lib/python3.6/dist-packages (from pillow->scikit-video) (0.46)\n",
            "Installing collected packages: scikit-video\n",
            "Successfully installed scikit-video-1.1.11\n"
          ],
          "name": "stdout"
        },
        {
          "output_type": "stream",
          "text": [
            "Using TensorFlow backend.\n"
          ],
          "name": "stderr"
        }
      ]
    },
    {
      "metadata": {
        "id": "Gk9WbYQehweD",
        "colab_type": "text"
      },
      "cell_type": "markdown",
      "source": [
        "Notations: $E_p$ is the expectation under probability $p$. Please justify each of your answer and widely comment your code.\n",
        "\n",
        "Context\n",
        "In a reinforcement learning algorithm, we modelize each step $t$ as an action $a_t$ obtained from a state $s_t$, i.e. $\\{(a_{t},s_{t})_{t\\leq T}\\}$ having the Markov property. We consider a discount factor $\\gamma \\in [0,1]$ that ensures convergence. The goal is to find among all the policies $\\pi$, one that maximizes the expected reward:\n",
        "\n",
        "$$\\begin{equation*}\n",
        "R(\\pi)=\\sum_{t\\leq T}E_{p^{\\pi}}[\\gamma^t r(s_{t},a_{t})] \\&gt; ,\n",
        "\\end{equation*}$$\n",
        "where: \\begin{equation}p^{\\pi}(a{0},a{1},s{1},...,a{T},s{T})=p(a{0})\\prod{t=1}^{T}\\pi(a{t}|s{t})p(s{t+1}|s{t},a{t}) > . \\end{equation}\n",
        "\n",
        "We note the $Q$-function:\n",
        "\n",
        "$$\\begin{equation*}Q^\\pi(s,a)=E_{p^{\\pi}}[\\sum_{t\\leq T}\\gamma^{t}r(s_{t},a_{t})|s_{0}=s,a_{0}=a] \\&gt; .\n",
        "\\end{equation*}$$\n",
        "\n",
        "\n",
        "Thus, the optimal Q function is:  𝑄∗(𝑠,𝑎)=max𝜋𝑄𝜋(𝑠,𝑎).\n",
        "\n",
        "\n",
        "In this project, we will apply the deep reinforcement learning techniques to a simple game: an agent will have to learn from scratch a policy that will permit it maximizing a reward."
      ]
    },
    {
      "metadata": {
        "id": "odiezU-RefF_",
        "colab_type": "text"
      },
      "cell_type": "markdown",
      "source": [
        "The environment\n",
        "\n",
        "\n",
        "Environment is an abstract class that represents the states, rewards, and actions to obtain the new state."
      ]
    },
    {
      "metadata": {
        "id": "GDzSArbbLKGG",
        "colab_type": "code",
        "colab": {}
      },
      "cell_type": "code",
      "source": [
        "class Environment(object):\n",
        "    def __init__(self):\n",
        "        pass\n",
        "\n",
        "    def act(self, act):\n",
        "        \"\"\"\n",
        "        One can act on the environment and obtain its reaction:\n",
        "        - the new state\n",
        "        - the reward of the new state\n",
        "        - should we continue the game?\n",
        "\n",
        "        :return: state, reward, game_over\n",
        "        \"\"\"\n",
        "        pass\n",
        "\n",
        "\n",
        "    def reset(self):\n",
        "        \"\"\"\n",
        "        Reinitialize the environment to a random state and returns\n",
        "        the original state\n",
        "\n",
        "        :return: state\n",
        "        \"\"\"\n",
        "        pass\n",
        "    \n",
        "    def draw(self):\n",
        "        \"\"\"\n",
        "        Visualize in the console or graphically the current state\n",
        "        \"\"\"\n",
        "        pass"
      ],
      "execution_count": 0,
      "outputs": []
    },
    {
      "metadata": {
        "id": "mIIHmzNtidvn",
        "colab_type": "text"
      },
      "cell_type": "markdown",
      "source": [
        "The method act allows to act on the environment at a given state $s_t$ (stored internally), via action $a_t$. The method will return the new state $s_{t+1}$, the reward $r(s_{t},a_{t})$ and determines if $t\\leq T$ (game_over).\n",
        "\n",
        "The method reset simply reinitializes the environment to a random state $s_0$.\n",
        "\n",
        "The method draw displays the current state $s_t$ (this is useful to check the behavior of the Agent).\n",
        "\n",
        "We modelize $s_t$ as a tensor, while $a_t$ is an integer."
      ]
    },
    {
      "metadata": {
        "id": "BGfjui13ekL5",
        "colab_type": "text"
      },
      "cell_type": "markdown",
      "source": [
        "The Agent\n",
        "\n",
        "The goal of the Agent is to interact with the Environment by proposing actions $a_t$ obtained from a given state $s_t$ to attempt to maximize its reward $r(s_t,a_t)$. We propose the following abstract class:"
      ]
    },
    {
      "metadata": {
        "id": "R6jYL1vgGm7E",
        "colab_type": "code",
        "colab": {}
      },
      "cell_type": "code",
      "source": [
        "class Agent(object):\n",
        "    def __init__(self, epsilon=0.1, n_action=4):\n",
        "        self.epsilon = epsilon\n",
        "        self.n_action = n_action\n",
        "    \n",
        "    def set_epsilon(self,e):\n",
        "        self.epsilon = e\n",
        "    \n",
        "    def get_epsilon(self):\n",
        "        return self.epsilon\n",
        "\n",
        "    def act(self,s,train=True):\n",
        "        \"\"\" This function should return the next action to do:\n",
        "        an integer between 0 and 4 (not included) with a random exploration of epsilon\"\"\"\n",
        "        if train:\n",
        "            if np.random.rand() <= self.epsilon:\n",
        "                a = np.random.randint(0, self.n_action, size=1)[0]\n",
        "            else:\n",
        "                a = self.learned_act(s)\n",
        "        else: # in some cases, this can improve the performance.. remove it if poor performances\n",
        "            a = self.learned_act(s)\n",
        "\n",
        "        return a\n",
        "\n",
        "    def learned_act(self,s):\n",
        "        \"\"\" Act via the policy of the agent, from a given state s\n",
        "        it proposes an action a\"\"\"\n",
        "        pass\n",
        "\n",
        "    def reinforce(self, s, n_s, a, r, game_over_):\n",
        "        \"\"\" This function is the core of the learning algorithm. \n",
        "        It takes as an input the current state s_, the next state n_s_\n",
        "        the action a_ used to move from s_ to n_s_ and the reward r_.\n",
        "        \n",
        "        Its goal is to learn a policy.\n",
        "        \"\"\"\n",
        "        pass\n",
        "\n",
        "    def save(self):\n",
        "        \"\"\" This function returns basic stats if applicable: the\n",
        "        loss and/or the model\"\"\"\n",
        "        pass\n",
        "\n",
        "    def load(self):\n",
        "        \"\"\" This function allows to restore a model\"\"\"\n",
        "        pass\n"
      ],
      "execution_count": 0,
      "outputs": []
    },
    {
      "metadata": {
        "id": "aOrnR4sii4XK",
        "colab_type": "text"
      },
      "cell_type": "markdown",
      "source": [
        "Question 1: Explain the function act. Why is epsilon essential?\n",
        "\n",
        "Answer 1:\n",
        "\n",
        "It allows the agent to take an action given an observation of the current state of the environment. With several actions in place, we can randomly choose one.The problem is if we ever find a decent option, we’ll always choose that one in the future, even if there is a way better option available. To overcome this, we bring into the notion of exploration. Even after we’ve explored all the options and we know already the best one, we still choose a random action, that is to say, to keep exploring.\n",
        "\n",
        "The standard way to get exploration is to introduce an additional term, epsilon. A value is generated randomly, if smaller than epsilon, a random action is chosen.  Otherwise we choose the optimal option available, which is  exploitation.\n",
        "\n",
        "$$ a^{*} = argmax_{a} Q^{\\pi} (s , a) $$\n",
        "So, epsilon manage the tradeoff between exploration and exploitation thus :\n",
        "\n",
        "During the exploration phase, the agent uses an epsilon greedy policy. Given a value for epsilon, the agent has a probability of epsilon to choose a random action. Otherwise, the agent will choose the action that gives the best reward. This policy allows the agent to explore new possibilities than the one it already considers as the best, wich allows to discover new strategies.\n",
        "\n",
        "During the exploitation phase, we consider that the agent has explored enough stategies, we stop the epsilon greedy policy and then the agent will always select the action with the best reward."
      ]
    },
    {
      "metadata": {
        "id": "DijKTQfkeuK-",
        "colab_type": "text"
      },
      "cell_type": "markdown",
      "source": [
        "The Game\n",
        "\n",
        "The Agent and the Environment work in an interlaced way as in the following (take some time to understand this code as it is the core of the project)"
      ]
    },
    {
      "metadata": {
        "id": "7YJGqR9Deu5Y",
        "colab_type": "code",
        "outputId": "800ba240-f80c-4a39-a99e-a8692cb4aacb",
        "colab": {
          "base_uri": "https://localhost:8080/",
          "height": 229
        }
      },
      "cell_type": "code",
      "source": [
        "epoch = 300\n",
        "env = Environment()\n",
        "agent = Agent()\n",
        "\n",
        "\n",
        "# Number of won games\n",
        "score = 0\n",
        "loss = 0\n",
        "\n",
        "\n",
        "for e in range(epoch):\n",
        "    # At each epoch, we restart to a fresh game and get the initial state\n",
        "    state = env.reset()\n",
        "    # This assumes that the games will end\n",
        "    game_over = False\n",
        "\n",
        "    win = 0\n",
        "    lose = 0\n",
        "\n",
        "    while not game_over:\n",
        "        # The agent performs an action\n",
        "        action = agent.act(state)\n",
        "\n",
        "        # Apply an action to the environment, get the next state, the reward\n",
        "        # and if the games end\n",
        "        prev_state = state\n",
        "        state, reward, game_over = env.act(action)\n",
        "\n",
        "        # Update the counters\n",
        "        if reward > 0:\n",
        "            win = win + reward\n",
        "        if reward < 0:\n",
        "            lose = lose -reward\n",
        "\n",
        "        # Apply the reinforcement strategy\n",
        "        loss = agent.reinforce(prev_state, state,  action, reward, game_over)\n",
        "\n",
        "    # Save as a mp4\n",
        "    if e % 10 == 0:\n",
        "        env.draw(e)\n",
        "\n",
        "    # Update stats\n",
        "    score += win-lose\n",
        "\n",
        "    print(\"Epoch {:03d}/{:03d} | Loss {:.4f} | Win/lose count {}/{} ({})\"\n",
        "          .format(e, epoch, loss, win, lose, win-lose))\n",
        "    agent.save()"
      ],
      "execution_count": 5,
      "outputs": [
        {
          "output_type": "error",
          "ename": "TypeError",
          "evalue": "ignored",
          "traceback": [
            "\u001b[0;31m---------------------------------------------------------------------------\u001b[0m",
            "\u001b[0;31mTypeError\u001b[0m                                 Traceback (most recent call last)",
            "\u001b[0;32m<ipython-input-5-8ad5c646d5a1>\u001b[0m in \u001b[0;36m<module>\u001b[0;34m()\u001b[0m\n\u001b[1;32m     25\u001b[0m         \u001b[0;31m# and if the games end\u001b[0m\u001b[0;34m\u001b[0m\u001b[0;34m\u001b[0m\u001b[0;34m\u001b[0m\u001b[0m\n\u001b[1;32m     26\u001b[0m         \u001b[0mprev_state\u001b[0m \u001b[0;34m=\u001b[0m \u001b[0mstate\u001b[0m\u001b[0;34m\u001b[0m\u001b[0;34m\u001b[0m\u001b[0m\n\u001b[0;32m---> 27\u001b[0;31m         \u001b[0mstate\u001b[0m\u001b[0;34m,\u001b[0m \u001b[0mreward\u001b[0m\u001b[0;34m,\u001b[0m \u001b[0mgame_over\u001b[0m \u001b[0;34m=\u001b[0m \u001b[0menv\u001b[0m\u001b[0;34m.\u001b[0m\u001b[0mact\u001b[0m\u001b[0;34m(\u001b[0m\u001b[0maction\u001b[0m\u001b[0;34m)\u001b[0m\u001b[0;34m\u001b[0m\u001b[0;34m\u001b[0m\u001b[0m\n\u001b[0m\u001b[1;32m     28\u001b[0m \u001b[0;34m\u001b[0m\u001b[0m\n\u001b[1;32m     29\u001b[0m         \u001b[0;31m# Update the counters\u001b[0m\u001b[0;34m\u001b[0m\u001b[0;34m\u001b[0m\u001b[0;34m\u001b[0m\u001b[0m\n",
            "\u001b[0;31mTypeError\u001b[0m: 'NoneType' object is not iterable"
          ]
        }
      ]
    },
    {
      "metadata": {
        "id": "FDMD3uspe9Yg",
        "colab_type": "text"
      },
      "cell_type": "markdown",
      "source": [
        "The game, eat cheese\n",
        "\n",
        "A rat runs on an island and tries to eat as much as possible. The island is subdivided into $N\\times N$ cells, in which there are cheese (+0.5) and poisonous cells (-1). The rat has a visibility of 2 cells (thus it can see $5^2$ cells). The rat is given a time $T$ to accumulate as much food as possible. It can perform 4 actions: going up, down, left, right.\n",
        "\n",
        "The goal is to code an agent to solve this task that will learn by trial and error. We propose the following environment:"
      ]
    },
    {
      "metadata": {
        "id": "pmEsXqWLfAUV",
        "colab_type": "code",
        "colab": {}
      },
      "cell_type": "code",
      "source": [
        "class Environment(object):\n",
        "    def __init__(self, grid_size=10, max_time=500, temperature=0.1):\n",
        "        grid_size = grid_size+4\n",
        "        self.grid_size = grid_size\n",
        "        self.max_time = max_time\n",
        "        self.temperature = temperature\n",
        "\n",
        "        #board on which one plays\n",
        "        self.board = np.zeros((grid_size,grid_size))\n",
        "        self.position = np.zeros((grid_size,grid_size))\n",
        "\n",
        "        # coordinate of the cat\n",
        "        self.x = 0\n",
        "        self.y = 1\n",
        "\n",
        "        # self time\n",
        "        self.t = 0\n",
        "\n",
        "        self.scale=16\n",
        "\n",
        "        self.to_draw = np.zeros((max_time+2, grid_size*self.scale, grid_size*self.scale, 3))\n",
        "\n",
        "\n",
        "    def draw(self,e):\n",
        "        skvideo.io.vwrite(str(e) + '.mp4', self.to_draw)\n",
        "\n",
        "    def get_frame(self,t):\n",
        "        b = np.zeros((self.grid_size,self.grid_size,3))+128\n",
        "        b[self.board>0,0] = 256\n",
        "        b[self.board < 0, 2] = 256\n",
        "        b[self.x,self.y,:]=256\n",
        "        b[-2:,:,:]=0\n",
        "        b[:,-2:,:]=0\n",
        "        b[:2,:,:]=0\n",
        "        b[:,:2,:]=0\n",
        "        \n",
        "        b =  cv2.resize(b, None, fx=self.scale, fy=self.scale, interpolation=cv2.INTER_NEAREST)\n",
        "\n",
        "        self.to_draw[t,:,:,:]=b\n",
        "\n",
        "\n",
        "    def act(self, action):\n",
        "        \"\"\"This function returns the new state, reward and decides if the\n",
        "        game ends.\"\"\"\n",
        "\n",
        "        self.get_frame(int(self.t))\n",
        "\n",
        "        self.position = np.zeros((self.grid_size, self.grid_size))\n",
        "\n",
        "        self.position[0:2,:]= -1\n",
        "        self.position[:,0:2] = -1\n",
        "        self.position[-2:, :] = -1\n",
        "        self.position[:, -2:] = -1\n",
        "\n",
        "        self.position[self.x, self.y] = 1\n",
        "        \n",
        "        if action == 0:\n",
        "            if self.x == self.grid_size-3:\n",
        "                self.x = self.x-1\n",
        "            else:\n",
        "                self.x = self.x + 1\n",
        "        elif action == 1:\n",
        "            if self.x == 2:\n",
        "                self.x = self.x+1\n",
        "            else:\n",
        "                self.x = self.x-1\n",
        "        elif action == 2:\n",
        "            if self.y == self.grid_size - 3:\n",
        "                self.y = self.y - 1\n",
        "            else:\n",
        "                self.y = self.y + 1\n",
        "        elif action == 3:\n",
        "            if self.y == 2:\n",
        "                self.y = self.y + 1\n",
        "            else:\n",
        "                self.y = self.y - 1\n",
        "        else:\n",
        "            RuntimeError('Error: action not recognized')\n",
        "\n",
        "        self.t = self.t + 1\n",
        "        reward = self.board[self.x, self.y]\n",
        "        self.board[self.x, self.y] = 0\n",
        "        game_over = self.t > self.max_time\n",
        "        state = np.concatenate((self.board.reshape(self.grid_size, self.grid_size,1),\n",
        "                                self.position.reshape(self.grid_size, self.grid_size,1)),axis=2)\n",
        "        state = state[self.x-2:self.x+3,self.y-2:self.y+3,:]\n",
        "\n",
        "        return state, reward, game_over\n",
        "\n",
        "    def reset(self):\n",
        "        \"\"\"This function resets the game and returns the initial state\"\"\"\n",
        "\n",
        "        self.x = np.random.randint(3, self.grid_size-3, size=1)[0]\n",
        "        self.y = np.random.randint(3, self.grid_size-3, size=1)[0]\n",
        "\n",
        "\n",
        "        bonus = 0.5*np.random.binomial(1,self.temperature,size=self.grid_size**2)\n",
        "        bonus = bonus.reshape(self.grid_size,self.grid_size)\n",
        "\n",
        "        malus = -1.0*np.random.binomial(1,self.temperature,size=self.grid_size**2)\n",
        "        malus = malus.reshape(self.grid_size, self.grid_size)\n",
        "\n",
        "        self.to_draw = np.zeros((self.max_time+2, self.grid_size*self.scale, self.grid_size*self.scale, 3))\n",
        "\n",
        "\n",
        "        malus[bonus>0]=0\n",
        "\n",
        "        self.board = bonus + malus\n",
        "\n",
        "        self.position = np.zeros((self.grid_size, self.grid_size))\n",
        "        self.position[0:2,:]= -1\n",
        "        self.position[:,0:2] = -1\n",
        "        self.position[-2:, :] = -1\n",
        "        self.position[:, -2:] = -1\n",
        "        self.board[self.x,self.y] = 0\n",
        "        self.t = 0\n",
        "\n",
        "        state = np.concatenate((self.board.reshape(self.grid_size, self.grid_size,1),\n",
        "                                self.position.reshape(self.grid_size, self.grid_size,1)),axis=2)\n",
        "\n",
        "        state = state[self.x - 2:self.x + 3, self.y - 2:self.y + 3, :]\n",
        "        \n",
        "        return state\n"
      ],
      "execution_count": 0,
      "outputs": []
    },
    {
      "metadata": {
        "id": "dvDhbccUfI_Z",
        "colab_type": "text"
      },
      "cell_type": "markdown",
      "source": [
        "The following elements are important because they correspond to the hyper parameters for this project:"
      ]
    },
    {
      "metadata": {
        "id": "bw1PlTXbfMum",
        "colab_type": "code",
        "colab": {}
      },
      "cell_type": "code",
      "source": [
        "# parameters\n",
        "size = 13\n",
        "T=200\n",
        "temperature=0.3\n",
        "epochs_train=10 # set small when debugging\n",
        "epochs_test=10 # set small when debugging\n",
        "\n",
        "# display videos\n",
        "def display_videos(name):\n",
        "    video = io.open(name, 'r+b').read()\n",
        "    encoded = base64.b64encode(video)\n",
        "    return '''<video alt=\"test\" controls>\n",
        "                <source src=\"data:video/mp4;base64,{0}\" type=\"video/mp4\" />\n",
        "             </video>'''.format(encoded.decode('ascii'))"
      ],
      "execution_count": 0,
      "outputs": []
    },
    {
      "metadata": {
        "id": "eFI2R46vj57Q",
        "colab_type": "text"
      },
      "cell_type": "markdown",
      "source": [
        "Question 2 Explain the use of the arrays position and board.\n",
        "\n",
        "Answer 2\n",
        "\n",
        "Position is the array that contains the position of the rat on the board at a given time. The array is updated for each call of the function act by setting all the elements to zero except the position of the rat that is set to 1 and the boarders to -1. It records the position of the mouse and gives information about its movement.\n",
        "\n",
        "Board is the array that contains information of the rewards on the board on which the rat moves around. Each cell can be neutral, reward(cheese) and penalty(poisonous cells) ,represented respectively by 0, 0.5 and -1. The distribution of the reward (0.5 and -1) follows a binomial law that is defined in the reset function.\n",
        "\n",
        "The environment sends to the rat a partial view of position and  board (visibility of 2 cells from its current position : self.x and self.y)"
      ]
    },
    {
      "metadata": {
        "id": "spCTukJVfQCH",
        "colab_type": "text"
      },
      "cell_type": "markdown",
      "source": [
        "Random Agent\n",
        "\n",
        "Question 3 Implement a random Agent (only learned_act needs to be implemented):"
      ]
    },
    {
      "metadata": {
        "id": "xv-CHI8sfXV9",
        "colab_type": "code",
        "colab": {}
      },
      "cell_type": "code",
      "source": [
        "import random as rd\n",
        "class RandomAgent(Agent):\n",
        "    def __init__(self):\n",
        "        super(RandomAgent, self).__init__()\n",
        "        pass\n",
        "\n",
        "    def learned_act(self, s):\n",
        "        return rd.randint(0,3)"
      ],
      "execution_count": 0,
      "outputs": []
    },
    {
      "metadata": {
        "id": "v6rBfbT-fbZu",
        "colab_type": "text"
      },
      "cell_type": "markdown",
      "source": [
        "\n",
        "Question 4 Visualize the game moves. You need to fill in the following function for the evaluation:"
      ]
    },
    {
      "metadata": {
        "id": "7vuazqOFfd-C",
        "colab_type": "code",
        "colab": {}
      },
      "cell_type": "code",
      "source": [
        "def test(agent,env,epochs,prefix=''):\n",
        "    # Number of won games\n",
        "    score = 0\n",
        "        \n",
        "    for e in range(epochs):\n",
        "        \n",
        "        # At each epoch, we reset the game and return to the initial state\n",
        "        state = env.reset()\n",
        "        # We assume that the games will end\n",
        "        game_over = False\n",
        "\n",
        "        win = 0\n",
        "        lose = 0\n",
        "\n",
        "        while not game_over:\n",
        "            # The agent takes an action\n",
        "            action = agent.learned_act(state)\n",
        "\n",
        "            # Apply an action to the environment, get the next state, the reward\n",
        "            # and if game over or not\n",
        "            prev_state = state\n",
        "            state, reward, game_over = env.act(action)\n",
        "\n",
        "            # Update the counters\n",
        "            if reward > 0:\n",
        "                win = win + reward\n",
        "            if reward < 0:\n",
        "                lose = lose -reward\n",
        "\n",
        "        # Save as a mp4\n",
        "        env.draw(prefix+str(e))\n",
        "\n",
        "        # Update stats\n",
        "        score = score + win-lose\n",
        "\n",
        "        print(\"Win/lose count {}/{}. Average score ({})\"\n",
        "              .format(win, lose, score/(1+e)))\n",
        "    print('Final score: '+str(score/epochs))"
      ],
      "execution_count": 0,
      "outputs": []
    },
    {
      "metadata": {
        "id": "gyLdxjICfhiA",
        "colab_type": "text"
      },
      "cell_type": "markdown",
      "source": [
        ""
      ]
    },
    {
      "metadata": {
        "id": "Ywnybzntg02W",
        "colab_type": "code",
        "outputId": "ce969c73-d5ab-45cc-d797-2e03d82a1ff1",
        "colab": {
          "base_uri": "https://localhost:8080/",
          "height": 476
        }
      },
      "cell_type": "code",
      "source": [
        "\n",
        "# Initialize the game\n",
        "env = Environment(grid_size=size, max_time=T,temperature=temperature)\n",
        "\n",
        "# Initialize the agent!\n",
        "agent = RandomAgent()\n",
        "\n",
        "test(agent,env,epochs_test,prefix='random')\n",
        "HTML(display_videos('random0.mp4'))"
      ],
      "execution_count": 11,
      "outputs": [
        {
          "output_type": "stream",
          "text": [
            "Win/lose count 11.5/8.0. Average score (3.5)\n",
            "Win/lose count 10.5/11.0. Average score (1.5)\n",
            "Win/lose count 7.0/15.0. Average score (-1.6666666666666667)\n",
            "Win/lose count 12.0/16.0. Average score (-2.25)\n",
            "Win/lose count 12.0/10.0. Average score (-1.4)\n",
            "Win/lose count 8.5/7.0. Average score (-0.9166666666666666)\n",
            "Win/lose count 10.5/11.0. Average score (-0.8571428571428571)\n",
            "Win/lose count 15.0/8.0. Average score (0.125)\n",
            "Win/lose count 12.5/22.0. Average score (-0.9444444444444444)\n",
            "Win/lose count 8.5/12.0. Average score (-1.2)\n",
            "Final score: -1.2\n"
          ],
          "name": "stdout"
        },
        {
          "output_type": "execute_result",
          "data": {
            "text/html": [
              "<video alt=\"test\" controls>\n",
              "                <source src=\"data:video/mp4;base64,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\" type=\"video/mp4\" />\n",
              "             </video>"
            ],
            "text/plain": [
              "<IPython.core.display.HTML object>"
            ]
          },
          "metadata": {
            "tags": []
          },
          "execution_count": 11
        }
      ]
    },
    {
      "metadata": {
        "id": "ZaSP7ZtmfaVy",
        "colab_type": "text"
      },
      "cell_type": "markdown",
      "source": [
        "DQN\n",
        "\n",
        "Let us assume here that $T=\\infty$.\n",
        "\n",
        "Question 5 Let $\\pi$ be a policy, show that:\n",
        "\n",
        "$$\\begin{equation*}\n",
        "Q^{\\pi}(s,a)=E_{(s',a')\\sim p(.|s,a)}[r(s,a)+\\gamma Q^{\\pi}(s',a')]\n",
        "\\end{equation*}$$\n",
        "Then, show that for the optimal policy $\\pi^*$ (we assume its existence), the following holds:\n",
        "\n",
        "$$\\begin{equation*}\n",
        "Q^{*}(s,a)=E_{s'\\sim \\pi^*(.|s,a)}[r(s,a)+\\gamma\\max_{a'}Q^{*}(s',a')].\n",
        "\\end{equation*}$$\n",
        "Finally, deduce that a plausible objective is:\n",
        "\n",
        "$$\\begin{equation*}\n",
        "\\mathcal{L}(\\theta)=E_{s' \\sim \\pi^*(.|s,a)}\\Vert r+\\gamma\\max\\max_{a'}Q(s',a',\\theta)-Q(s,a,\\theta)\\Vert^{2}.\n",
        "\\end{equation*}$$\n",
        "\n",
        "\n",
        "\n",
        "\n",
        "Answer 5 The Q-function is defined such that:\n",
        "\n",
        "The action-value function can be written as \n",
        "\n",
        "Thus \\begin{equation} Q^\\pi(s,a)=E{p^{\\pi}}[\\sum{t\\leq T}\\gamma^{t}r(s{t},a{t})|s{0}=s,a{0}=a] > . \\end{equation}\n",
        "\n",
        "By using the Markov property and defining the function as a Bellman equation we have that:\n",
        "\n",
        "$$\\begin{equation*}\n",
        "Q^{\\pi}(s,a)=E_{(s',a')\\sim p(.|s,a)}[r(s,a)+\\gamma Q^{\\pi}(s',a')]\n",
        "\\end{equation*}$$\n",
        "One assumes that the optimal policy $\\pi^*$ exists, the optimal Q function is defined as:\n",
        "\n",
        "$$\\begin{equation*}\n",
        "Q^*(s,a)=\\max_{\\pi}Q^\\pi(s,a) \\&gt; \n",
        "\\end{equation*}$$$$\\begin{equation*}\n",
        "Q^*(s,a)= \\max_{\\pi} E_{(s',a')\\sim p(.|s,a)}[r(s,a)+\\gamma Q^{\\pi}(s',a')] \\&gt; \n",
        "\\end{equation*}$$$$\\begin{equation*}\n",
        "Q^*(s,a)= E_{s'\\sim \\pi^*(.|s,a)}[r(s,a)+\\gamma Q^{\\pi^*}(s',a')] \\&gt; \n",
        "\\end{equation*}$$$$\\begin{equation*}\n",
        "Q^*(s,a)= E_{s'\\sim \\pi^*(.|s,a)}[r(s,a)+\\gamma\\max_{a'}Q^{*}(s',a')].\n",
        "\\end{equation*}$$\n",
        "Finally, a plausible objective is to minimize the loss function defined as:\n",
        "\n",
        "$$\\begin{equation*}\n",
        "\\mathcal{L}(\\theta) = E_{s' \\sim \\pi^*(.|s,a)}( ( Q^* (s,a,\\theta ) - Q(s,a,\\theta)) ^2) \n",
        "\\end{equation*}$$$$\\begin{equation*}\n",
        "\\mathcal{L}(\\theta) =  E_{s' \\sim \\pi^*(.|s,a)} ( ( r(s,a)+\\gamma\\max_{a'}Q^{*}(s',a', \\theta) - Q(s,a,\\theta)) ^2) \n",
        "\\end{equation*}$$$$\\begin{equation*}\n",
        "\\mathcal{L}(\\theta) = E_{s' \\sim \\pi^*(.|s,a)}\\Vert r+\\gamma\\max\\max_{a'}Q(s',a',\\theta)-Q(s,a,\\theta)\\Vert^{2}.\n",
        "\\end{equation*}$$\n",
        "\n",
        "\n",
        "\n",
        "The DQN-learning algorithm relies on these derivations to train the parameters $\\theta$ of a Deep Neural Network:\n",
        "\n",
        "At the state $s_t$, select the action $a_t$ with best reward using $Q_t$ and store the results;\n",
        "\n",
        "Obtain the new state $s_{t+1}$ from the environment $p$;\n",
        "\n",
        "Store $(s_t,a_t,s_{t+1})$;\n",
        "\n",
        "Obtain $Q_{t+1}$ by minimizing  $\\mathcal{L}$ from a recovered batch from the previously stored results.\n",
        "\n",
        "\n",
        "\n",
        "Question 6 Implement the class Memory that stores moves (in a replay buffer) via remember and provides a random_access to these. Specify a maximum memory size to avoid side effects. You can for example use a list() and set by default max_memory=100.\n",
        "\n",
        "In [6]:"
      ]
    },
    {
      "metadata": {
        "id": "AhF0wtpylPm3",
        "colab_type": "code",
        "colab": {}
      },
      "cell_type": "code",
      "source": [
        "class Memory(object):\n",
        "    def __init__(self, max_memory=100):\n",
        "        self.max_memory = max_memory\n",
        "        self.memory = deque(maxlen=self.max_memory)        \n",
        "\n",
        "    def remember(self, m):\n",
        "        # move m = list(s_t, s_(t+1), a_t, r_t, game_over)\n",
        "        self.memory.append(m)\n",
        "\n",
        "    def random_access(self):\n",
        "        idx = rd.randint(0,len(self.memory)-1)\n",
        "        return self.memory[idx]"
      ],
      "execution_count": 0,
      "outputs": []
    },
    {
      "metadata": {
        "id": "df7ogVDEnJFk",
        "colab_type": "text"
      },
      "cell_type": "markdown",
      "source": [
        "The pipeline we will use for training is given below:"
      ]
    },
    {
      "metadata": {
        "id": "r399pt23nKQn",
        "colab_type": "code",
        "colab": {}
      },
      "cell_type": "code",
      "source": [
        "def train(agent,env,epoch,prefix=''):\n",
        "    # Number of won games\n",
        "    score = 0\n",
        "    loss = 0\n",
        "\n",
        "    for e in range(epoch):\n",
        "        # At each epoch, we restart to a fresh game and get the initial state\n",
        "        state = env.reset()\n",
        "        # This assumes that the games will terminate\n",
        "        game_over = False\n",
        "\n",
        "        win = 0\n",
        "        lose = 0\n",
        "\n",
        "        while not game_over:\n",
        "            # The agent performs an action\n",
        "            action = agent.act(state)\n",
        "\n",
        "            # Apply an action to the environment, get the next state, the reward\n",
        "            # and if the games end\n",
        "            prev_state = state\n",
        "            state, reward, game_over = env.act(action)\n",
        "\n",
        "            # Update the counters\n",
        "            if reward > 0:\n",
        "                win = win + reward\n",
        "            if reward < 0:\n",
        "                lose = lose -reward\n",
        "\n",
        "            # Apply the reinforcement strategy\n",
        "            loss = agent.reinforce(prev_state, state,  action, reward, game_over)\n",
        "\n",
        "        # Save as a mp4\n",
        "        env.draw(prefix+str(e))\n",
        "\n",
        "        # Update stats\n",
        "        score += win-lose\n",
        "\n",
        "        print(\"Epoch {:03d}/{:03d} | Loss {:.4f} | Win/lose count {}/{} ({})\"\n",
        "              .format(e, epoch, loss, win, lose, win-lose))\n",
        "        agent.save(name_weights=prefix+'model.h5',name_model=prefix+'model.json')\n",
        "        \n",
        "    print('Final score: '+str(score/epoch))\n"
      ],
      "execution_count": 0,
      "outputs": []
    },
    {
      "metadata": {
        "id": "Nv1Y8Cb2nTko",
        "colab_type": "text"
      },
      "cell_type": "markdown",
      "source": [
        "Question 7 Implement the DQN training algorithm using a cascade of fully connected layers. You can use different learning rate, batch size or memory size parameters. In particular, the loss might oscillate while the player will start to win the games. You have to find a good criterium."
      ]
    },
    {
      "metadata": {
        "id": "UXoCOHTcnUfP",
        "colab_type": "code",
        "colab": {}
      },
      "cell_type": "code",
      "source": [
        "class DQN(Agent):\n",
        "    def __init__(self, grid_size,  epsilon = 0.1, memory_size=100, batch_size = 16,n_state=2):\n",
        "        super(DQN, self).__init__(epsilon = epsilon)\n",
        "\n",
        "        # Discount for Q learning\n",
        "        self.discount = 0.99\n",
        "        \n",
        "        self.grid_size = grid_size\n",
        "        \n",
        "        # number of state\n",
        "        self.n_state = n_state\n",
        "\n",
        "        # Memory\n",
        "        self.memory = Memory(memory_size)\n",
        "        \n",
        "        # Batch size when learning\n",
        "        self.batch_size = batch_size\n",
        "    \n",
        "\n",
        "    def learned_act(self, s):\n",
        "        \n",
        "        s = np.reshape(s,[1,5,5,self.n_state])\n",
        "        # Predict the reward value based on the given state\n",
        "        act_values = self.model.predict(s)\n",
        "        return np.argmax(act_values[0])\n",
        "\n",
        "    def reinforce(self, s_, n_s_, a_, r_, game_over_):\n",
        "        # Two steps: first memorize the states, second learn from the pool\n",
        "        \n",
        "        s_ = np.reshape(s_,[1,5,5,self.n_state])\n",
        "        n_s_ = np.reshape(n_s_,[1,5,5,self.n_state])\n",
        "        \n",
        "        self.memory.remember([s_, n_s_, a_, r_, game_over_])\n",
        "        \n",
        "        input_states = np.zeros((self.batch_size, 5,5,self.n_state))\n",
        "        target_q = np.zeros((self.batch_size, 4))\n",
        "\n",
        "        for i in range(self.batch_size):\n",
        "            target = r_\n",
        "            minibatch = self.memory.random_access()\n",
        "            \n",
        "            s_= minibatch[0]\n",
        "            n_s_= minibatch[1]\n",
        "            a_ = minibatch[2]\n",
        "            r_= minibatch[3]\n",
        "            game_over_= minibatch[4]\n",
        "            \n",
        "            input_states[i]= s_\n",
        "            \n",
        "            if game_over_:\n",
        "                target= r_\n",
        "\n",
        "            else:               \n",
        "                target = (r_ + self.discount * np.amax(self.model.predict(n_s_)[0]))\n",
        "                \n",
        "            target_f = self.model.predict(s_)\n",
        "            target_f[0][a_] = target\n",
        "            self.model.fit(s_, target_f, epochs=1, verbose=0)\n",
        "            \n",
        "            target_q[i]=target_f\n",
        "            \n",
        "        # HINT: Clip the target to avoid exploiding gradients.. -- clipping is a bit tighter\n",
        "        target_q = np.clip(target_q, -3, 3)\n",
        "\n",
        "        l = self.model.train_on_batch(input_states, target_q)\n",
        "\n",
        "        return l\n",
        "\n",
        "    def save(self,name_weights='model.h5',name_model='model.json'):\n",
        "        self.model.save_weights(name_weights, overwrite=True)\n",
        "        with open(name_model, \"w\") as outfile:\n",
        "            json.dump(self.model.to_json(), outfile)\n",
        "            \n",
        "    def load(self,name_weights='model.h5',name_model='model.json'):\n",
        "        with open(name_model, \"r\") as jfile:\n",
        "            model = model_from_json(json.load(jfile))\n",
        "        model.load_weights(name_weights)\n",
        "        model.compile(\"sgd\", \"mse\")\n",
        "        self.model = model\n",
        "\n",
        "            \n",
        "\n",
        "class DQN_FC(DQN):\n",
        "    def __init__(self, lr=0.1,  *args, **kwargs):\n",
        "        super(DQN_FC, self).__init__(*args,**kwargs)\n",
        "        \n",
        "        # NN Model\n",
        "        state_size = 50\n",
        "        \n",
        "        model = Sequential()\n",
        "        model.add(Reshape((state_size,), input_shape=(5,5,self.n_state)))\n",
        "        model.add(Dense(256, input_dim=state_size, activation='relu'))\n",
        "        model.add(Dense(128, activation='relu'))\n",
        "        model.add(Dense(4, activation='linear'))\n",
        "        #model.compile(sgd(lr=lr, decay=1e-4, momentum=0.0), \"mse\")\n",
        "        model.compile(loss='mse', optimizer=Adam(lr=lr))\n",
        "        self.model = model\n"
      ],
      "execution_count": 0,
      "outputs": []
    },
    {
      "metadata": {
        "id": "odewR1x6o4Zi",
        "colab_type": "code",
        "outputId": "230d9d63-dac6-4151-8360-6d581b9b1bf7",
        "colab": {
          "base_uri": "https://localhost:8080/",
          "height": 1202
        }
      },
      "cell_type": "code",
      "source": [
        "from collections import deque\n",
        "\n",
        "env = Environment(grid_size=size, max_time=T, temperature=0.3)\n",
        "agent = DQN_FC(lr=0.1, grid_size=size, epsilon = 0.1, memory_size=2000, batch_size = 32)\n",
        "train(agent, env, epochs_train, prefix='fc_train')\n",
        "HTML(display_videos('fc_train0.mp4'))"
      ],
      "execution_count": 22,
      "outputs": [
        {
          "output_type": "stream",
          "text": [
            "WARNING:tensorflow:From /usr/local/lib/python3.6/dist-packages/tensorflow/python/ops/math_ops.py:3066: to_int32 (from tensorflow.python.ops.math_ops) is deprecated and will be removed in a future version.\n",
            "Instructions for updating:\n",
            "Use tf.cast instead.\n",
            "Epoch 000/010 | Loss 38.5756 | Win/lose count 3.0/10.0 (-7.0)\n",
            "Epoch 001/010 | Loss 11.2830 | Win/lose count 5.5/3.0 (2.5)\n",
            "Epoch 002/010 | Loss 0.0041 | Win/lose count 3.0/10.0 (-7.0)\n",
            "Epoch 003/010 | Loss 0.2201 | Win/lose count 7.5/11.0 (-3.5)\n",
            "Epoch 004/010 | Loss 0.1367 | Win/lose count 7.0/10.0 (-3.0)\n",
            "Epoch 005/010 | Loss 0.5513 | Win/lose count 9.0/11.0 (-2.0)\n"
          ],
          "name": "stdout"
        },
        {
          "output_type": "error",
          "ename": "KeyboardInterrupt",
          "evalue": "ignored",
          "traceback": [
            "\u001b[0;31m---------------------------------------------------------------------------\u001b[0m",
            "\u001b[0;31mKeyboardInterrupt\u001b[0m                         Traceback (most recent call last)",
            "\u001b[0;32m<ipython-input-22-1b42f8641af4>\u001b[0m in \u001b[0;36m<module>\u001b[0;34m()\u001b[0m\n\u001b[1;32m      3\u001b[0m \u001b[0menv\u001b[0m \u001b[0;34m=\u001b[0m \u001b[0mEnvironment\u001b[0m\u001b[0;34m(\u001b[0m\u001b[0mgrid_size\u001b[0m\u001b[0;34m=\u001b[0m\u001b[0msize\u001b[0m\u001b[0;34m,\u001b[0m \u001b[0mmax_time\u001b[0m\u001b[0;34m=\u001b[0m\u001b[0mT\u001b[0m\u001b[0;34m,\u001b[0m \u001b[0mtemperature\u001b[0m\u001b[0;34m=\u001b[0m\u001b[0;36m0.3\u001b[0m\u001b[0;34m)\u001b[0m\u001b[0;34m\u001b[0m\u001b[0;34m\u001b[0m\u001b[0m\n\u001b[1;32m      4\u001b[0m \u001b[0magent\u001b[0m \u001b[0;34m=\u001b[0m \u001b[0mDQN_FC\u001b[0m\u001b[0;34m(\u001b[0m\u001b[0mlr\u001b[0m\u001b[0;34m=\u001b[0m\u001b[0;36m0.1\u001b[0m\u001b[0;34m,\u001b[0m \u001b[0mgrid_size\u001b[0m\u001b[0;34m=\u001b[0m\u001b[0msize\u001b[0m\u001b[0;34m,\u001b[0m \u001b[0mepsilon\u001b[0m \u001b[0;34m=\u001b[0m \u001b[0;36m0.1\u001b[0m\u001b[0;34m,\u001b[0m \u001b[0mmemory_size\u001b[0m\u001b[0;34m=\u001b[0m\u001b[0;36m2000\u001b[0m\u001b[0;34m,\u001b[0m \u001b[0mbatch_size\u001b[0m \u001b[0;34m=\u001b[0m \u001b[0;36m32\u001b[0m\u001b[0;34m)\u001b[0m\u001b[0;34m\u001b[0m\u001b[0;34m\u001b[0m\u001b[0m\n\u001b[0;32m----> 5\u001b[0;31m \u001b[0mtrain\u001b[0m\u001b[0;34m(\u001b[0m\u001b[0magent\u001b[0m\u001b[0;34m,\u001b[0m \u001b[0menv\u001b[0m\u001b[0;34m,\u001b[0m \u001b[0mepochs_train\u001b[0m\u001b[0;34m,\u001b[0m \u001b[0mprefix\u001b[0m\u001b[0;34m=\u001b[0m\u001b[0;34m'fc_train'\u001b[0m\u001b[0;34m)\u001b[0m\u001b[0;34m\u001b[0m\u001b[0;34m\u001b[0m\u001b[0m\n\u001b[0m\u001b[1;32m      6\u001b[0m \u001b[0mHTML\u001b[0m\u001b[0;34m(\u001b[0m\u001b[0mdisplay_videos\u001b[0m\u001b[0;34m(\u001b[0m\u001b[0;34m'fc_train0.mp4'\u001b[0m\u001b[0;34m)\u001b[0m\u001b[0;34m)\u001b[0m\u001b[0;34m\u001b[0m\u001b[0;34m\u001b[0m\u001b[0m\n",
            "\u001b[0;32m<ipython-input-20-c9113ca87d35>\u001b[0m in \u001b[0;36mtrain\u001b[0;34m(agent, env, epoch, prefix)\u001b[0m\n\u001b[1;32m     29\u001b[0m \u001b[0;34m\u001b[0m\u001b[0m\n\u001b[1;32m     30\u001b[0m             \u001b[0;31m# Apply the reinforcement strategy\u001b[0m\u001b[0;34m\u001b[0m\u001b[0;34m\u001b[0m\u001b[0;34m\u001b[0m\u001b[0m\n\u001b[0;32m---> 31\u001b[0;31m             \u001b[0mloss\u001b[0m \u001b[0;34m=\u001b[0m \u001b[0magent\u001b[0m\u001b[0;34m.\u001b[0m\u001b[0mreinforce\u001b[0m\u001b[0;34m(\u001b[0m\u001b[0mprev_state\u001b[0m\u001b[0;34m,\u001b[0m \u001b[0mstate\u001b[0m\u001b[0;34m,\u001b[0m  \u001b[0maction\u001b[0m\u001b[0;34m,\u001b[0m \u001b[0mreward\u001b[0m\u001b[0;34m,\u001b[0m \u001b[0mgame_over\u001b[0m\u001b[0;34m)\u001b[0m\u001b[0;34m\u001b[0m\u001b[0;34m\u001b[0m\u001b[0m\n\u001b[0m\u001b[1;32m     32\u001b[0m \u001b[0;34m\u001b[0m\u001b[0m\n\u001b[1;32m     33\u001b[0m         \u001b[0;31m# Save as a mp4\u001b[0m\u001b[0;34m\u001b[0m\u001b[0;34m\u001b[0m\u001b[0;34m\u001b[0m\u001b[0m\n",
            "\u001b[0;32m<ipython-input-21-4c459dce74d4>\u001b[0m in \u001b[0;36mreinforce\u001b[0;34m(self, s_, n_s_, a_, r_, game_over_)\u001b[0m\n\u001b[1;32m     52\u001b[0m \u001b[0;34m\u001b[0m\u001b[0m\n\u001b[1;32m     53\u001b[0m             \u001b[0;32melse\u001b[0m\u001b[0;34m:\u001b[0m\u001b[0;34m\u001b[0m\u001b[0;34m\u001b[0m\u001b[0m\n\u001b[0;32m---> 54\u001b[0;31m                 \u001b[0mtarget\u001b[0m \u001b[0;34m=\u001b[0m \u001b[0;34m(\u001b[0m\u001b[0mr_\u001b[0m \u001b[0;34m+\u001b[0m \u001b[0mself\u001b[0m\u001b[0;34m.\u001b[0m\u001b[0mdiscount\u001b[0m \u001b[0;34m*\u001b[0m \u001b[0mnp\u001b[0m\u001b[0;34m.\u001b[0m\u001b[0mamax\u001b[0m\u001b[0;34m(\u001b[0m\u001b[0mself\u001b[0m\u001b[0;34m.\u001b[0m\u001b[0mmodel\u001b[0m\u001b[0;34m.\u001b[0m\u001b[0mpredict\u001b[0m\u001b[0;34m(\u001b[0m\u001b[0mn_s_\u001b[0m\u001b[0;34m)\u001b[0m\u001b[0;34m[\u001b[0m\u001b[0;36m0\u001b[0m\u001b[0;34m]\u001b[0m\u001b[0;34m)\u001b[0m\u001b[0;34m)\u001b[0m\u001b[0;34m\u001b[0m\u001b[0;34m\u001b[0m\u001b[0m\n\u001b[0m\u001b[1;32m     55\u001b[0m \u001b[0;34m\u001b[0m\u001b[0m\n\u001b[1;32m     56\u001b[0m             \u001b[0mtarget_f\u001b[0m \u001b[0;34m=\u001b[0m \u001b[0mself\u001b[0m\u001b[0;34m.\u001b[0m\u001b[0mmodel\u001b[0m\u001b[0;34m.\u001b[0m\u001b[0mpredict\u001b[0m\u001b[0;34m(\u001b[0m\u001b[0ms_\u001b[0m\u001b[0;34m)\u001b[0m\u001b[0;34m\u001b[0m\u001b[0;34m\u001b[0m\u001b[0m\n",
            "\u001b[0;32m/usr/local/lib/python3.6/dist-packages/keras/engine/training.py\u001b[0m in \u001b[0;36mpredict\u001b[0;34m(self, x, batch_size, verbose, steps)\u001b[0m\n\u001b[1;32m   1167\u001b[0m                                             \u001b[0mbatch_size\u001b[0m\u001b[0;34m=\u001b[0m\u001b[0mbatch_size\u001b[0m\u001b[0;34m,\u001b[0m\u001b[0;34m\u001b[0m\u001b[0;34m\u001b[0m\u001b[0m\n\u001b[1;32m   1168\u001b[0m                                             \u001b[0mverbose\u001b[0m\u001b[0;34m=\u001b[0m\u001b[0mverbose\u001b[0m\u001b[0;34m,\u001b[0m\u001b[0;34m\u001b[0m\u001b[0;34m\u001b[0m\u001b[0m\n\u001b[0;32m-> 1169\u001b[0;31m                                             steps=steps)\n\u001b[0m\u001b[1;32m   1170\u001b[0m \u001b[0;34m\u001b[0m\u001b[0m\n\u001b[1;32m   1171\u001b[0m     def train_on_batch(self, x, y,\n",
            "\u001b[0;32m/usr/local/lib/python3.6/dist-packages/keras/engine/training_arrays.py\u001b[0m in \u001b[0;36mpredict_loop\u001b[0;34m(model, f, ins, batch_size, verbose, steps)\u001b[0m\n\u001b[1;32m    292\u001b[0m                 \u001b[0mins_batch\u001b[0m\u001b[0;34m[\u001b[0m\u001b[0mi\u001b[0m\u001b[0;34m]\u001b[0m \u001b[0;34m=\u001b[0m \u001b[0mins_batch\u001b[0m\u001b[0;34m[\u001b[0m\u001b[0mi\u001b[0m\u001b[0;34m]\u001b[0m\u001b[0;34m.\u001b[0m\u001b[0mtoarray\u001b[0m\u001b[0;34m(\u001b[0m\u001b[0;34m)\u001b[0m\u001b[0;34m\u001b[0m\u001b[0;34m\u001b[0m\u001b[0m\n\u001b[1;32m    293\u001b[0m \u001b[0;34m\u001b[0m\u001b[0m\n\u001b[0;32m--> 294\u001b[0;31m             \u001b[0mbatch_outs\u001b[0m \u001b[0;34m=\u001b[0m \u001b[0mf\u001b[0m\u001b[0;34m(\u001b[0m\u001b[0mins_batch\u001b[0m\u001b[0;34m)\u001b[0m\u001b[0;34m\u001b[0m\u001b[0;34m\u001b[0m\u001b[0m\n\u001b[0m\u001b[1;32m    295\u001b[0m             \u001b[0mbatch_outs\u001b[0m \u001b[0;34m=\u001b[0m \u001b[0mto_list\u001b[0m\u001b[0;34m(\u001b[0m\u001b[0mbatch_outs\u001b[0m\u001b[0;34m)\u001b[0m\u001b[0;34m\u001b[0m\u001b[0;34m\u001b[0m\u001b[0m\n\u001b[1;32m    296\u001b[0m             \u001b[0;32mif\u001b[0m \u001b[0mbatch_index\u001b[0m \u001b[0;34m==\u001b[0m \u001b[0;36m0\u001b[0m\u001b[0;34m:\u001b[0m\u001b[0;34m\u001b[0m\u001b[0;34m\u001b[0m\u001b[0m\n",
            "\u001b[0;32m/usr/local/lib/python3.6/dist-packages/keras/backend/tensorflow_backend.py\u001b[0m in \u001b[0;36m__call__\u001b[0;34m(self, inputs)\u001b[0m\n\u001b[1;32m   2713\u001b[0m                 \u001b[0;32mreturn\u001b[0m \u001b[0mself\u001b[0m\u001b[0;34m.\u001b[0m\u001b[0m_legacy_call\u001b[0m\u001b[0;34m(\u001b[0m\u001b[0minputs\u001b[0m\u001b[0;34m)\u001b[0m\u001b[0;34m\u001b[0m\u001b[0;34m\u001b[0m\u001b[0m\n\u001b[1;32m   2714\u001b[0m \u001b[0;34m\u001b[0m\u001b[0m\n\u001b[0;32m-> 2715\u001b[0;31m             \u001b[0;32mreturn\u001b[0m \u001b[0mself\u001b[0m\u001b[0;34m.\u001b[0m\u001b[0m_call\u001b[0m\u001b[0;34m(\u001b[0m\u001b[0minputs\u001b[0m\u001b[0;34m)\u001b[0m\u001b[0;34m\u001b[0m\u001b[0;34m\u001b[0m\u001b[0m\n\u001b[0m\u001b[1;32m   2716\u001b[0m         \u001b[0;32melse\u001b[0m\u001b[0;34m:\u001b[0m\u001b[0;34m\u001b[0m\u001b[0;34m\u001b[0m\u001b[0m\n\u001b[1;32m   2717\u001b[0m             \u001b[0;32mif\u001b[0m \u001b[0mpy_any\u001b[0m\u001b[0;34m(\u001b[0m\u001b[0mis_tensor\u001b[0m\u001b[0;34m(\u001b[0m\u001b[0mx\u001b[0m\u001b[0;34m)\u001b[0m \u001b[0;32mfor\u001b[0m \u001b[0mx\u001b[0m \u001b[0;32min\u001b[0m \u001b[0minputs\u001b[0m\u001b[0;34m)\u001b[0m\u001b[0;34m:\u001b[0m\u001b[0;34m\u001b[0m\u001b[0;34m\u001b[0m\u001b[0m\n",
            "\u001b[0;32m/usr/local/lib/python3.6/dist-packages/keras/backend/tensorflow_backend.py\u001b[0m in \u001b[0;36m_call\u001b[0;34m(self, inputs)\u001b[0m\n\u001b[1;32m   2673\u001b[0m             \u001b[0mfetched\u001b[0m \u001b[0;34m=\u001b[0m \u001b[0mself\u001b[0m\u001b[0;34m.\u001b[0m\u001b[0m_callable_fn\u001b[0m\u001b[0;34m(\u001b[0m\u001b[0;34m*\u001b[0m\u001b[0marray_vals\u001b[0m\u001b[0;34m,\u001b[0m \u001b[0mrun_metadata\u001b[0m\u001b[0;34m=\u001b[0m\u001b[0mself\u001b[0m\u001b[0;34m.\u001b[0m\u001b[0mrun_metadata\u001b[0m\u001b[0;34m)\u001b[0m\u001b[0;34m\u001b[0m\u001b[0;34m\u001b[0m\u001b[0m\n\u001b[1;32m   2674\u001b[0m         \u001b[0;32melse\u001b[0m\u001b[0;34m:\u001b[0m\u001b[0;34m\u001b[0m\u001b[0;34m\u001b[0m\u001b[0m\n\u001b[0;32m-> 2675\u001b[0;31m             \u001b[0mfetched\u001b[0m \u001b[0;34m=\u001b[0m \u001b[0mself\u001b[0m\u001b[0;34m.\u001b[0m\u001b[0m_callable_fn\u001b[0m\u001b[0;34m(\u001b[0m\u001b[0;34m*\u001b[0m\u001b[0marray_vals\u001b[0m\u001b[0;34m)\u001b[0m\u001b[0;34m\u001b[0m\u001b[0;34m\u001b[0m\u001b[0m\n\u001b[0m\u001b[1;32m   2676\u001b[0m         \u001b[0;32mreturn\u001b[0m \u001b[0mfetched\u001b[0m\u001b[0;34m[\u001b[0m\u001b[0;34m:\u001b[0m\u001b[0mlen\u001b[0m\u001b[0;34m(\u001b[0m\u001b[0mself\u001b[0m\u001b[0;34m.\u001b[0m\u001b[0moutputs\u001b[0m\u001b[0;34m)\u001b[0m\u001b[0;34m]\u001b[0m\u001b[0;34m\u001b[0m\u001b[0;34m\u001b[0m\u001b[0m\n\u001b[1;32m   2677\u001b[0m \u001b[0;34m\u001b[0m\u001b[0m\n",
            "\u001b[0;32m/usr/local/lib/python3.6/dist-packages/tensorflow/python/client/session.py\u001b[0m in \u001b[0;36m__call__\u001b[0;34m(self, *args, **kwargs)\u001b[0m\n\u001b[1;32m   1427\u001b[0m         \u001b[0mtf_session\u001b[0m\u001b[0;34m.\u001b[0m\u001b[0mTF_DeleteBuffer\u001b[0m\u001b[0;34m(\u001b[0m\u001b[0moptions_ptr\u001b[0m\u001b[0;34m)\u001b[0m\u001b[0;34m\u001b[0m\u001b[0;34m\u001b[0m\u001b[0m\n\u001b[1;32m   1428\u001b[0m \u001b[0;34m\u001b[0m\u001b[0m\n\u001b[0;32m-> 1429\u001b[0;31m     \u001b[0;32mdef\u001b[0m \u001b[0m__call__\u001b[0m\u001b[0;34m(\u001b[0m\u001b[0mself\u001b[0m\u001b[0;34m,\u001b[0m \u001b[0;34m*\u001b[0m\u001b[0margs\u001b[0m\u001b[0;34m,\u001b[0m \u001b[0;34m**\u001b[0m\u001b[0mkwargs\u001b[0m\u001b[0;34m)\u001b[0m\u001b[0;34m:\u001b[0m\u001b[0;34m\u001b[0m\u001b[0;34m\u001b[0m\u001b[0m\n\u001b[0m\u001b[1;32m   1430\u001b[0m       \u001b[0;31m# TODO(b/74355905): Support argument and return value nested structures,\u001b[0m\u001b[0;34m\u001b[0m\u001b[0;34m\u001b[0m\u001b[0;34m\u001b[0m\u001b[0m\n\u001b[1;32m   1431\u001b[0m       \u001b[0;31m# and tensor-like objects such as SparseTensors.\u001b[0m\u001b[0;34m\u001b[0m\u001b[0;34m\u001b[0m\u001b[0;34m\u001b[0m\u001b[0m\n",
            "\u001b[0;31mKeyboardInterrupt\u001b[0m: "
          ]
        }
      ]
    },
    {
      "metadata": {
        "id": "QF_h0A756pEO",
        "colab_type": "code",
        "colab": {}
      },
      "cell_type": "code",
      "source": [
        ""
      ],
      "execution_count": 0,
      "outputs": []
    },
    {
      "metadata": {
        "id": "ssyEUpVq6-CY",
        "colab_type": "text"
      },
      "cell_type": "markdown",
      "source": [
        "Question 8 Implement the DQN training algorithm using a CNN (for example, 2 convolutional layers and one final fully connected layer)."
      ]
    },
    {
      "metadata": {
        "id": "REjDoMPZ6_q2",
        "colab_type": "code",
        "outputId": "6b7d9def-eccf-4827-a1e6-eebb35183bf8",
        "colab": {
          "base_uri": "https://localhost:8080/",
          "height": 1370
        }
      },
      "cell_type": "code",
      "source": [
        "class DQN_CNN(DQN):\n",
        "    def __init__(self, lr=0.1, *args,**kwargs):\n",
        "        super(DQN_CNN, self).__init__(*args,**kwargs)\n",
        "        \n",
        "        filters = 32\n",
        "        kernel_size = (3,3)\n",
        "        \n",
        "        model = Sequential()\n",
        "        model.add(Conv2D(filters, kernel_size, input_shape=(5,5,self.n_state), activation='relu'))\n",
        "        model.add(Conv2D(filters, kernel_size, activation='relu'))\n",
        "        model.add(Dropout(0.2))\n",
        "        model.add(Flatten())\n",
        "        model.add(Dense(4, activation='relu'))\n",
        "        model.compile(sgd(lr=lr, decay=1e-4, momentum=0.0), \"mse\")\n",
        "        self.model = model\n",
        "        \n",
        "env = Environment(grid_size=size, max_time=T, temperature=0.3)\n",
        "agent = DQN_CNN(grid_size=size, lr=0.1, epsilon = 0.1, memory_size=2000, batch_size = 32)\n",
        "train(agent,env,epochs_train,prefix='cnn_train')\n",
        "HTML(display_videos('cnn_train10.mp4'))"
      ],
      "execution_count": 25,
      "outputs": [
        {
          "output_type": "stream",
          "text": [
            "Epoch 000/010 | Loss 0.0003 | Win/lose count 3.0/4.0 (-1.0)\n",
            "Epoch 001/010 | Loss 0.0034 | Win/lose count 2.5/3.0 (-0.5)\n",
            "Epoch 002/010 | Loss 0.0103 | Win/lose count 5.5/2.0 (3.5)\n",
            "Epoch 003/010 | Loss 0.0107 | Win/lose count 1.0/1.0 (0.0)\n",
            "Epoch 004/010 | Loss 0.0088 | Win/lose count 3.5/3.0 (0.5)\n"
          ],
          "name": "stdout"
        },
        {
          "output_type": "error",
          "ename": "KeyboardInterrupt",
          "evalue": "ignored",
          "traceback": [
            "\u001b[0;31m---------------------------------------------------------------------------\u001b[0m",
            "\u001b[0;31mKeyboardInterrupt\u001b[0m                         Traceback (most recent call last)",
            "\u001b[0;32m<ipython-input-25-e59fee60661a>\u001b[0m in \u001b[0;36m<module>\u001b[0;34m()\u001b[0m\n\u001b[1;32m     17\u001b[0m \u001b[0menv\u001b[0m \u001b[0;34m=\u001b[0m \u001b[0mEnvironment\u001b[0m\u001b[0;34m(\u001b[0m\u001b[0mgrid_size\u001b[0m\u001b[0;34m=\u001b[0m\u001b[0msize\u001b[0m\u001b[0;34m,\u001b[0m \u001b[0mmax_time\u001b[0m\u001b[0;34m=\u001b[0m\u001b[0mT\u001b[0m\u001b[0;34m,\u001b[0m \u001b[0mtemperature\u001b[0m\u001b[0;34m=\u001b[0m\u001b[0;36m0.3\u001b[0m\u001b[0;34m)\u001b[0m\u001b[0;34m\u001b[0m\u001b[0;34m\u001b[0m\u001b[0m\n\u001b[1;32m     18\u001b[0m \u001b[0magent\u001b[0m \u001b[0;34m=\u001b[0m \u001b[0mDQN_CNN\u001b[0m\u001b[0;34m(\u001b[0m\u001b[0mgrid_size\u001b[0m\u001b[0;34m=\u001b[0m\u001b[0msize\u001b[0m\u001b[0;34m,\u001b[0m \u001b[0mlr\u001b[0m\u001b[0;34m=\u001b[0m\u001b[0;36m0.05\u001b[0m\u001b[0;34m,\u001b[0m \u001b[0mepsilon\u001b[0m \u001b[0;34m=\u001b[0m \u001b[0;36m0.1\u001b[0m\u001b[0;34m,\u001b[0m \u001b[0mmemory_size\u001b[0m\u001b[0;34m=\u001b[0m\u001b[0;36m2000\u001b[0m\u001b[0;34m,\u001b[0m \u001b[0mbatch_size\u001b[0m \u001b[0;34m=\u001b[0m \u001b[0;36m32\u001b[0m\u001b[0;34m)\u001b[0m\u001b[0;34m\u001b[0m\u001b[0;34m\u001b[0m\u001b[0m\n\u001b[0;32m---> 19\u001b[0;31m \u001b[0mtrain\u001b[0m\u001b[0;34m(\u001b[0m\u001b[0magent\u001b[0m\u001b[0;34m,\u001b[0m\u001b[0menv\u001b[0m\u001b[0;34m,\u001b[0m\u001b[0mepochs_train\u001b[0m\u001b[0;34m,\u001b[0m\u001b[0mprefix\u001b[0m\u001b[0;34m=\u001b[0m\u001b[0;34m'cnn_train'\u001b[0m\u001b[0;34m)\u001b[0m\u001b[0;34m\u001b[0m\u001b[0;34m\u001b[0m\u001b[0m\n\u001b[0m\u001b[1;32m     20\u001b[0m \u001b[0mHTML\u001b[0m\u001b[0;34m(\u001b[0m\u001b[0mdisplay_videos\u001b[0m\u001b[0;34m(\u001b[0m\u001b[0;34m'cnn_train10.mp4'\u001b[0m\u001b[0;34m)\u001b[0m\u001b[0;34m)\u001b[0m\u001b[0;34m\u001b[0m\u001b[0;34m\u001b[0m\u001b[0m\n",
            "\u001b[0;32m<ipython-input-20-c9113ca87d35>\u001b[0m in \u001b[0;36mtrain\u001b[0;34m(agent, env, epoch, prefix)\u001b[0m\n\u001b[1;32m     29\u001b[0m \u001b[0;34m\u001b[0m\u001b[0m\n\u001b[1;32m     30\u001b[0m             \u001b[0;31m# Apply the reinforcement strategy\u001b[0m\u001b[0;34m\u001b[0m\u001b[0;34m\u001b[0m\u001b[0;34m\u001b[0m\u001b[0m\n\u001b[0;32m---> 31\u001b[0;31m             \u001b[0mloss\u001b[0m \u001b[0;34m=\u001b[0m \u001b[0magent\u001b[0m\u001b[0;34m.\u001b[0m\u001b[0mreinforce\u001b[0m\u001b[0;34m(\u001b[0m\u001b[0mprev_state\u001b[0m\u001b[0;34m,\u001b[0m \u001b[0mstate\u001b[0m\u001b[0;34m,\u001b[0m  \u001b[0maction\u001b[0m\u001b[0;34m,\u001b[0m \u001b[0mreward\u001b[0m\u001b[0;34m,\u001b[0m \u001b[0mgame_over\u001b[0m\u001b[0;34m)\u001b[0m\u001b[0;34m\u001b[0m\u001b[0;34m\u001b[0m\u001b[0m\n\u001b[0m\u001b[1;32m     32\u001b[0m \u001b[0;34m\u001b[0m\u001b[0m\n\u001b[1;32m     33\u001b[0m         \u001b[0;31m# Save as a mp4\u001b[0m\u001b[0;34m\u001b[0m\u001b[0;34m\u001b[0m\u001b[0;34m\u001b[0m\u001b[0m\n",
            "\u001b[0;32m<ipython-input-21-4c459dce74d4>\u001b[0m in \u001b[0;36mreinforce\u001b[0;34m(self, s_, n_s_, a_, r_, game_over_)\u001b[0m\n\u001b[1;32m     56\u001b[0m             \u001b[0mtarget_f\u001b[0m \u001b[0;34m=\u001b[0m \u001b[0mself\u001b[0m\u001b[0;34m.\u001b[0m\u001b[0mmodel\u001b[0m\u001b[0;34m.\u001b[0m\u001b[0mpredict\u001b[0m\u001b[0;34m(\u001b[0m\u001b[0ms_\u001b[0m\u001b[0;34m)\u001b[0m\u001b[0;34m\u001b[0m\u001b[0;34m\u001b[0m\u001b[0m\n\u001b[1;32m     57\u001b[0m             \u001b[0mtarget_f\u001b[0m\u001b[0;34m[\u001b[0m\u001b[0;36m0\u001b[0m\u001b[0;34m]\u001b[0m\u001b[0;34m[\u001b[0m\u001b[0ma_\u001b[0m\u001b[0;34m]\u001b[0m \u001b[0;34m=\u001b[0m \u001b[0mtarget\u001b[0m\u001b[0;34m\u001b[0m\u001b[0;34m\u001b[0m\u001b[0m\n\u001b[0;32m---> 58\u001b[0;31m             \u001b[0mself\u001b[0m\u001b[0;34m.\u001b[0m\u001b[0mmodel\u001b[0m\u001b[0;34m.\u001b[0m\u001b[0mfit\u001b[0m\u001b[0;34m(\u001b[0m\u001b[0ms_\u001b[0m\u001b[0;34m,\u001b[0m \u001b[0mtarget_f\u001b[0m\u001b[0;34m,\u001b[0m \u001b[0mepochs\u001b[0m\u001b[0;34m=\u001b[0m\u001b[0;36m1\u001b[0m\u001b[0;34m,\u001b[0m \u001b[0mverbose\u001b[0m\u001b[0;34m=\u001b[0m\u001b[0;36m0\u001b[0m\u001b[0;34m)\u001b[0m\u001b[0;34m\u001b[0m\u001b[0;34m\u001b[0m\u001b[0m\n\u001b[0m\u001b[1;32m     59\u001b[0m \u001b[0;34m\u001b[0m\u001b[0m\n\u001b[1;32m     60\u001b[0m             \u001b[0mtarget_q\u001b[0m\u001b[0;34m[\u001b[0m\u001b[0mi\u001b[0m\u001b[0;34m]\u001b[0m\u001b[0;34m=\u001b[0m\u001b[0mtarget_f\u001b[0m\u001b[0;34m\u001b[0m\u001b[0;34m\u001b[0m\u001b[0m\n",
            "\u001b[0;32m/usr/local/lib/python3.6/dist-packages/keras/engine/training.py\u001b[0m in \u001b[0;36mfit\u001b[0;34m(self, x, y, batch_size, epochs, verbose, callbacks, validation_split, validation_data, shuffle, class_weight, sample_weight, initial_epoch, steps_per_epoch, validation_steps, **kwargs)\u001b[0m\n\u001b[1;32m   1037\u001b[0m                                         \u001b[0minitial_epoch\u001b[0m\u001b[0;34m=\u001b[0m\u001b[0minitial_epoch\u001b[0m\u001b[0;34m,\u001b[0m\u001b[0;34m\u001b[0m\u001b[0;34m\u001b[0m\u001b[0m\n\u001b[1;32m   1038\u001b[0m                                         \u001b[0msteps_per_epoch\u001b[0m\u001b[0;34m=\u001b[0m\u001b[0msteps_per_epoch\u001b[0m\u001b[0;34m,\u001b[0m\u001b[0;34m\u001b[0m\u001b[0;34m\u001b[0m\u001b[0m\n\u001b[0;32m-> 1039\u001b[0;31m                                         validation_steps=validation_steps)\n\u001b[0m\u001b[1;32m   1040\u001b[0m \u001b[0;34m\u001b[0m\u001b[0m\n\u001b[1;32m   1041\u001b[0m     def evaluate(self, x=None, y=None,\n",
            "\u001b[0;32m/usr/local/lib/python3.6/dist-packages/keras/engine/training_arrays.py\u001b[0m in \u001b[0;36mfit_loop\u001b[0;34m(model, f, ins, out_labels, batch_size, epochs, verbose, callbacks, val_f, val_ins, shuffle, callback_metrics, initial_epoch, steps_per_epoch, validation_steps)\u001b[0m\n\u001b[1;32m    197\u001b[0m                     \u001b[0mins_batch\u001b[0m\u001b[0;34m[\u001b[0m\u001b[0mi\u001b[0m\u001b[0;34m]\u001b[0m \u001b[0;34m=\u001b[0m \u001b[0mins_batch\u001b[0m\u001b[0;34m[\u001b[0m\u001b[0mi\u001b[0m\u001b[0;34m]\u001b[0m\u001b[0;34m.\u001b[0m\u001b[0mtoarray\u001b[0m\u001b[0;34m(\u001b[0m\u001b[0;34m)\u001b[0m\u001b[0;34m\u001b[0m\u001b[0;34m\u001b[0m\u001b[0m\n\u001b[1;32m    198\u001b[0m \u001b[0;34m\u001b[0m\u001b[0m\n\u001b[0;32m--> 199\u001b[0;31m                 \u001b[0mouts\u001b[0m \u001b[0;34m=\u001b[0m \u001b[0mf\u001b[0m\u001b[0;34m(\u001b[0m\u001b[0mins_batch\u001b[0m\u001b[0;34m)\u001b[0m\u001b[0;34m\u001b[0m\u001b[0;34m\u001b[0m\u001b[0m\n\u001b[0m\u001b[1;32m    200\u001b[0m                 \u001b[0mouts\u001b[0m \u001b[0;34m=\u001b[0m \u001b[0mto_list\u001b[0m\u001b[0;34m(\u001b[0m\u001b[0mouts\u001b[0m\u001b[0;34m)\u001b[0m\u001b[0;34m\u001b[0m\u001b[0;34m\u001b[0m\u001b[0m\n\u001b[1;32m    201\u001b[0m                 \u001b[0;32mfor\u001b[0m \u001b[0ml\u001b[0m\u001b[0;34m,\u001b[0m \u001b[0mo\u001b[0m \u001b[0;32min\u001b[0m \u001b[0mzip\u001b[0m\u001b[0;34m(\u001b[0m\u001b[0mout_labels\u001b[0m\u001b[0;34m,\u001b[0m \u001b[0mouts\u001b[0m\u001b[0;34m)\u001b[0m\u001b[0;34m:\u001b[0m\u001b[0;34m\u001b[0m\u001b[0;34m\u001b[0m\u001b[0m\n",
            "\u001b[0;32m/usr/local/lib/python3.6/dist-packages/keras/backend/tensorflow_backend.py\u001b[0m in \u001b[0;36m__call__\u001b[0;34m(self, inputs)\u001b[0m\n\u001b[1;32m   2695\u001b[0m \u001b[0;34m\u001b[0m\u001b[0m\n\u001b[1;32m   2696\u001b[0m     \u001b[0;32mdef\u001b[0m \u001b[0m__call__\u001b[0m\u001b[0;34m(\u001b[0m\u001b[0mself\u001b[0m\u001b[0;34m,\u001b[0m \u001b[0minputs\u001b[0m\u001b[0;34m)\u001b[0m\u001b[0;34m:\u001b[0m\u001b[0;34m\u001b[0m\u001b[0;34m\u001b[0m\u001b[0m\n\u001b[0;32m-> 2697\u001b[0;31m         \u001b[0;32mif\u001b[0m \u001b[0mhasattr\u001b[0m\u001b[0;34m(\u001b[0m\u001b[0mget_session\u001b[0m\u001b[0;34m(\u001b[0m\u001b[0;34m)\u001b[0m\u001b[0;34m,\u001b[0m \u001b[0;34m'_make_callable_from_options'\u001b[0m\u001b[0;34m)\u001b[0m\u001b[0;34m:\u001b[0m\u001b[0;34m\u001b[0m\u001b[0;34m\u001b[0m\u001b[0m\n\u001b[0m\u001b[1;32m   2698\u001b[0m             \u001b[0;32mif\u001b[0m \u001b[0mpy_any\u001b[0m\u001b[0;34m(\u001b[0m\u001b[0mis_sparse\u001b[0m\u001b[0;34m(\u001b[0m\u001b[0mx\u001b[0m\u001b[0;34m)\u001b[0m \u001b[0;32mfor\u001b[0m \u001b[0mx\u001b[0m \u001b[0;32min\u001b[0m \u001b[0mself\u001b[0m\u001b[0;34m.\u001b[0m\u001b[0minputs\u001b[0m\u001b[0;34m)\u001b[0m\u001b[0;34m:\u001b[0m\u001b[0;34m\u001b[0m\u001b[0;34m\u001b[0m\u001b[0m\n\u001b[1;32m   2699\u001b[0m                 \u001b[0;32mif\u001b[0m \u001b[0mpy_any\u001b[0m\u001b[0;34m(\u001b[0m\u001b[0mis_tensor\u001b[0m\u001b[0;34m(\u001b[0m\u001b[0mx\u001b[0m\u001b[0;34m)\u001b[0m \u001b[0;32mfor\u001b[0m \u001b[0mx\u001b[0m \u001b[0;32min\u001b[0m \u001b[0minputs\u001b[0m\u001b[0;34m)\u001b[0m\u001b[0;34m:\u001b[0m\u001b[0;34m\u001b[0m\u001b[0;34m\u001b[0m\u001b[0m\n",
            "\u001b[0;32m/usr/local/lib/python3.6/dist-packages/keras/backend/tensorflow_backend.py\u001b[0m in \u001b[0;36mget_session\u001b[0;34m()\u001b[0m\n\u001b[1;32m    188\u001b[0m     \u001b[0;32mif\u001b[0m \u001b[0;32mnot\u001b[0m \u001b[0m_MANUAL_VAR_INIT\u001b[0m\u001b[0;34m:\u001b[0m\u001b[0;34m\u001b[0m\u001b[0;34m\u001b[0m\u001b[0m\n\u001b[1;32m    189\u001b[0m         \u001b[0;32mwith\u001b[0m \u001b[0msession\u001b[0m\u001b[0;34m.\u001b[0m\u001b[0mgraph\u001b[0m\u001b[0;34m.\u001b[0m\u001b[0mas_default\u001b[0m\u001b[0;34m(\u001b[0m\u001b[0;34m)\u001b[0m\u001b[0;34m:\u001b[0m\u001b[0;34m\u001b[0m\u001b[0;34m\u001b[0m\u001b[0m\n\u001b[0;32m--> 190\u001b[0;31m             \u001b[0mvariables\u001b[0m \u001b[0;34m=\u001b[0m \u001b[0mtf\u001b[0m\u001b[0;34m.\u001b[0m\u001b[0mglobal_variables\u001b[0m\u001b[0;34m(\u001b[0m\u001b[0;34m)\u001b[0m\u001b[0;34m\u001b[0m\u001b[0;34m\u001b[0m\u001b[0m\n\u001b[0m\u001b[1;32m    191\u001b[0m             \u001b[0mcandidate_vars\u001b[0m \u001b[0;34m=\u001b[0m \u001b[0;34m[\u001b[0m\u001b[0;34m]\u001b[0m\u001b[0;34m\u001b[0m\u001b[0;34m\u001b[0m\u001b[0m\n\u001b[1;32m    192\u001b[0m             \u001b[0;32mfor\u001b[0m \u001b[0mv\u001b[0m \u001b[0;32min\u001b[0m \u001b[0mvariables\u001b[0m\u001b[0;34m:\u001b[0m\u001b[0;34m\u001b[0m\u001b[0;34m\u001b[0m\u001b[0m\n",
            "\u001b[0;32m/usr/local/lib/python3.6/dist-packages/tensorflow/python/ops/variables.py\u001b[0m in \u001b[0;36mglobal_variables\u001b[0;34m(scope)\u001b[0m\n\u001b[1;32m   2715\u001b[0m     \u001b[0mA\u001b[0m \u001b[0mlist\u001b[0m \u001b[0mof\u001b[0m\u001b[0;31m \u001b[0m\u001b[0;31m`\u001b[0m\u001b[0mVariable\u001b[0m\u001b[0;31m`\u001b[0m \u001b[0mobjects\u001b[0m\u001b[0;34m.\u001b[0m\u001b[0;34m\u001b[0m\u001b[0;34m\u001b[0m\u001b[0m\n\u001b[1;32m   2716\u001b[0m   \"\"\"\n\u001b[0;32m-> 2717\u001b[0;31m   \u001b[0;32mreturn\u001b[0m \u001b[0mops\u001b[0m\u001b[0;34m.\u001b[0m\u001b[0mget_collection\u001b[0m\u001b[0;34m(\u001b[0m\u001b[0mops\u001b[0m\u001b[0;34m.\u001b[0m\u001b[0mGraphKeys\u001b[0m\u001b[0;34m.\u001b[0m\u001b[0mGLOBAL_VARIABLES\u001b[0m\u001b[0;34m,\u001b[0m \u001b[0mscope\u001b[0m\u001b[0;34m)\u001b[0m\u001b[0;34m\u001b[0m\u001b[0;34m\u001b[0m\u001b[0m\n\u001b[0m\u001b[1;32m   2718\u001b[0m \u001b[0;34m\u001b[0m\u001b[0m\n\u001b[1;32m   2719\u001b[0m \u001b[0;34m\u001b[0m\u001b[0m\n",
            "\u001b[0;32m/usr/local/lib/python3.6/dist-packages/tensorflow/python/framework/ops.py\u001b[0m in \u001b[0;36mget_collection\u001b[0;34m(key, scope)\u001b[0m\n\u001b[1;32m   5975\u001b[0m   \u001b[0;34m@\u001b[0m\u001b[0mend_compatibility\u001b[0m\u001b[0;34m\u001b[0m\u001b[0;34m\u001b[0m\u001b[0m\n\u001b[1;32m   5976\u001b[0m   \"\"\"\n\u001b[0;32m-> 5977\u001b[0;31m   \u001b[0;32mreturn\u001b[0m \u001b[0mget_default_graph\u001b[0m\u001b[0;34m(\u001b[0m\u001b[0;34m)\u001b[0m\u001b[0;34m.\u001b[0m\u001b[0mget_collection\u001b[0m\u001b[0;34m(\u001b[0m\u001b[0mkey\u001b[0m\u001b[0;34m,\u001b[0m \u001b[0mscope\u001b[0m\u001b[0;34m)\u001b[0m\u001b[0;34m\u001b[0m\u001b[0;34m\u001b[0m\u001b[0m\n\u001b[0m\u001b[1;32m   5978\u001b[0m \u001b[0;34m\u001b[0m\u001b[0m\n\u001b[1;32m   5979\u001b[0m \u001b[0;34m\u001b[0m\u001b[0m\n",
            "\u001b[0;32m/usr/local/lib/python3.6/dist-packages/tensorflow/python/framework/ops.py\u001b[0m in \u001b[0;36mget_collection\u001b[0;34m(self, name, scope)\u001b[0m\n\u001b[1;32m   3830\u001b[0m         \u001b[0;32mreturn\u001b[0m \u001b[0;34m[\u001b[0m\u001b[0;34m]\u001b[0m\u001b[0;34m\u001b[0m\u001b[0;34m\u001b[0m\u001b[0m\n\u001b[1;32m   3831\u001b[0m       \u001b[0;32mif\u001b[0m \u001b[0mscope\u001b[0m \u001b[0;32mis\u001b[0m \u001b[0;32mNone\u001b[0m\u001b[0;34m:\u001b[0m\u001b[0;34m\u001b[0m\u001b[0;34m\u001b[0m\u001b[0m\n\u001b[0;32m-> 3832\u001b[0;31m         \u001b[0;32mreturn\u001b[0m \u001b[0mlist\u001b[0m\u001b[0;34m(\u001b[0m\u001b[0mcollection\u001b[0m\u001b[0;34m)\u001b[0m\u001b[0;34m\u001b[0m\u001b[0;34m\u001b[0m\u001b[0m\n\u001b[0m\u001b[1;32m   3833\u001b[0m       \u001b[0;32melse\u001b[0m\u001b[0;34m:\u001b[0m\u001b[0;34m\u001b[0m\u001b[0;34m\u001b[0m\u001b[0m\n\u001b[1;32m   3834\u001b[0m         \u001b[0mc\u001b[0m \u001b[0;34m=\u001b[0m \u001b[0;34m[\u001b[0m\u001b[0;34m]\u001b[0m\u001b[0;34m\u001b[0m\u001b[0;34m\u001b[0m\u001b[0m\n",
            "\u001b[0;31mKeyboardInterrupt\u001b[0m: "
          ]
        }
      ]
    },
    {
      "metadata": {
        "id": "mSZE2TJKRPZo",
        "colab_type": "code",
        "outputId": "4b5168d7-d5e8-4613-f36a-5e9d69cde8ac",
        "colab": {
          "base_uri": "https://localhost:8080/",
          "height": 292
        }
      },
      "cell_type": "code",
      "source": [
        "HTML(display_videos('cnn_train2.mp4'))"
      ],
      "execution_count": 0,
      "outputs": [
        {
          "output_type": "execute_result",
          "data": {
            "text/html": [
              "<video alt=\"test\" controls>\n",
              "                <source src=\"data:video/mp4;base64,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\" type=\"video/mp4\" />\n",
              "             </video>"
            ],
            "text/plain": [
              "<IPython.core.display.HTML object>"
            ]
          },
          "metadata": {
            "tags": []
          },
          "execution_count": 38
        }
      ]
    },
    {
      "metadata": {
        "id": "ubbIC5etBHC2",
        "colab_type": "text"
      },
      "cell_type": "markdown",
      "source": [
        "Question 9 Test both algorithms and compare their performances. Which issue(s) do you observe? Observe also different behaviors by changing the temperature."
      ]
    },
    {
      "metadata": {
        "id": "VGJoqNPXBKUC",
        "colab_type": "code",
        "outputId": "4a7a0194-6dd0-496a-feac-e2538f811282",
        "colab": {
          "base_uri": "https://localhost:8080/",
          "height": 552
        }
      },
      "cell_type": "code",
      "source": [
        "# the performances are shown in the previous exercise, here we test different temperature with 5 epochs\n",
        "temp = [0.1,0.3, 0.5, 1]\n",
        "for temp1 in temp:\n",
        "    print(\"\\n temperature : {0}\".format(temp1)  )   \n",
        "    env = Environment(grid_size=size, max_time=T, temperature=temp1)\n",
        "    agent = DQN_CNN(lr=0.1, grid_size= size, epsilon = 0.1, memory_size=2000, batch_size = 32)\n",
        "    train(agent,env,5,prefix='cnn_train')\n",
        "    "
      ],
      "execution_count": 26,
      "outputs": [
        {
          "output_type": "stream",
          "text": [
            "\n",
            " temperature : 0.1\n",
            "Epoch 000/005 | Loss 0.0000 | Win/lose count 1.0/2.0 (-1.0)\n",
            "Epoch 001/005 | Loss 0.0000 | Win/lose count 0/1.0 (-1.0)\n",
            "Epoch 002/005 | Loss 0.0078 | Win/lose count 1.0/2.0 (-1.0)\n",
            "Epoch 003/005 | Loss 0.0000 | Win/lose count 0.5/0 (0.5)\n",
            "Epoch 004/005 | Loss 0.0000 | Win/lose count 1.5/2.0 (-0.5)\n",
            "Final score: -0.6\n",
            "\n",
            " temperature : 0.3\n",
            "Epoch 000/005 | Loss 0.0001 | Win/lose count 1.5/0 (1.5)\n",
            "Epoch 001/005 | Loss 0.0024 | Win/lose count 5.0/2.0 (3.0)\n",
            "Epoch 002/005 | Loss 0.0038 | Win/lose count 1.0/3.0 (-2.0)\n",
            "Epoch 003/005 | Loss 0.0001 | Win/lose count 4.0/7.0 (-3.0)\n",
            "Epoch 004/005 | Loss 0.0132 | Win/lose count 3.5/4.0 (-0.5)\n",
            "Final score: -0.2\n",
            "\n",
            " temperature : 0.5\n",
            "Epoch 000/005 | Loss 0.0975 | Win/lose count 2.5/2.0 (0.5)\n",
            "Epoch 001/005 | Loss 0.0265 | Win/lose count 8.0/4.0 (4.0)\n",
            "Epoch 002/005 | Loss 0.0072 | Win/lose count 3.5/3.0 (0.5)\n",
            "Epoch 003/005 | Loss 0.0095 | Win/lose count 6.0/3.0 (3.0)\n",
            "Epoch 004/005 | Loss 0.0123 | Win/lose count 6.0/6.0 (0.0)\n",
            "Final score: 1.6\n",
            "\n",
            " temperature : 1\n",
            "Epoch 000/005 | Loss 0.0078 | Win/lose count 12.5/0 (12.5)\n",
            "Epoch 001/005 | Loss 0.0078 | Win/lose count 7.0/0 (7.0)\n",
            "Epoch 002/005 | Loss 0.0059 | Win/lose count 6.5/0 (6.5)\n",
            "Epoch 003/005 | Loss 0.0020 | Win/lose count 11.5/0 (11.5)\n",
            "Epoch 004/005 | Loss 0.0020 | Win/lose count 8.0/0 (8.0)\n",
            "Final score: 9.1\n"
          ],
          "name": "stdout"
        }
      ]
    },
    {
      "metadata": {
        "id": "Amr0VWpcIJWg",
        "colab_type": "text"
      },
      "cell_type": "markdown",
      "source": [
        "We can notice that the results given by the CNN are better than by the FC model\n",
        "\n",
        "\n",
        "By increasing the temperature,we improve the final score, butby doing so we increase the probability of having cheese and lower the probility of poisonious cells (when temperature is 1, there's only cheese)"
      ]
    },
    {
      "metadata": {
        "id": "b_KIfmZaTfAD",
        "colab_type": "text"
      },
      "cell_type": "markdown",
      "source": [
        "The algorithm tends to not explore the map which can be an issue. We propose two ideas in order to encourage exploration:\n",
        "\n",
        "Incorporating a decreasing  𝜖 -greedy exploration. You can use the method set_epsilon\n",
        "Append via the environment a new state that describes if a cell has been visited or not"
      ]
    },
    {
      "metadata": {
        "id": "xV8tJpTWfZo2",
        "colab_type": "text"
      },
      "cell_type": "markdown",
      "source": [
        "Question 10 Design a new train_explore function and environment class EnvironmentExploring to tackle the issue of exploration."
      ]
    },
    {
      "metadata": {
        "id": "3NK-9T1_LdY1",
        "colab_type": "text"
      },
      "cell_type": "markdown",
      "source": [
        ""
      ]
    },
    {
      "metadata": {
        "id": "v-Q0pWKpLeia",
        "colab_type": "code",
        "colab": {}
      },
      "cell_type": "code",
      "source": [
        "def train_explore(agent,env,epoch,prefix=''):\n",
        "    # Number of games wons\n",
        "    score = 0\n",
        "    loss = 0\n",
        "\n",
        "    \n",
        "    for e in range(epoch):\n",
        "        # At each epoch, we restart to a fresh game and get the initial state\n",
        "        state = env.reset()\n",
        "        # This assumes that the games will terminate\n",
        "        game_over = False\n",
        "\n",
        "        win = 0\n",
        "        lose = 0\n",
        "\n",
        "        while not game_over:\n",
        "            \n",
        "            # Epsilon-greedy \n",
        "            agent.set_epsilon(np.float(agent.get_epsilon())*0.99)\n",
        "            \n",
        "            # The agent performs an action\n",
        "            action = agent.act(state)\n",
        "\n",
        "            # Apply an action to the environment, get the next state, the reward\n",
        "            # and if the games end\n",
        "            prev_state = state\n",
        "            state, reward, game_over = env.act(action, train=True)\n",
        "\n",
        "            # Update the counters\n",
        "            if reward > 0:\n",
        "                win = win + reward\n",
        "            if reward < 0:\n",
        "                lose = lose - reward\n",
        "\n",
        "            # Apply the reinforcement strategy\n",
        "            loss = agent.reinforce(prev_state, state,  action, reward, game_over)\n",
        "            \n",
        "        # Save as a mp4       \n",
        "        env.draw(prefix+str(e))\n",
        "\n",
        "        # Update stats\n",
        "        score += win-lose\n",
        "\n",
        "        print(\"Epoch {:03d}/{:03d} | Loss {:.4f} | Win/lose count {}/{} ({})\"\n",
        "              .format(e, epoch, loss, win, lose, win-lose))\n",
        "        agent.save(name_weights=prefix+'model.h5',name_model=prefix+'model.json')\n",
        "        \n",
        "    print('Final score: '+str(score/epoch))\n",
        "        \n",
        "class EnvironmentExploring(object):\n",
        "    def __init__(self, grid_size=10, max_time=500, temperature=0.1):\n",
        "        grid_size = grid_size + 4\n",
        "        self.grid_size = grid_size\n",
        "        self.max_time = max_time\n",
        "        self.temperature = temperature\n",
        "        \n",
        "        self.board = np.zeros([grid_size,grid_size])\n",
        "        self.position = np.zeros([grid_size,grid_size])\n",
        "        self.malus_position = np.zeros([grid_size,grid_size])\n",
        "        \n",
        "        # coordinate of the rat\n",
        "        self.x = 0\n",
        "        self.y = 1\n",
        "        \n",
        "        # self time\n",
        "        self.t = 0\n",
        "\n",
        "        self.scale=16\n",
        "\n",
        "        self.to_draw = np.zeros((max_time+2, grid_size*self.scale, grid_size*self.scale, 3))\n",
        "        \n",
        "    def get_t(self):\n",
        "        return self.t\n",
        "    \n",
        "    def draw(self,e):\n",
        "        skvideo.io.vwrite(str(e) + '.mp4', self.to_draw)\n",
        "\n",
        "    def get_frame(self,t):\n",
        "        b = np.zeros((self.grid_size,self.grid_size,3))+128\n",
        "        b[self.board>0,0] = 256\n",
        "        b[self.board < 0, 2] = 256\n",
        "        b[self.x,self.y,:]=256\n",
        "        b[-2:,:,:]=0\n",
        "        b[:,-2:,:]=0\n",
        "        b[:2,:,:]=0\n",
        "        b[:,:2,:]=0\n",
        "        \n",
        "        b =  cv2.resize(b, None, fx=self.scale, fy=self.scale, interpolation=cv2.INTER_NEAREST)\n",
        "\n",
        "        self.to_draw[t,:,:,:]=b\n",
        "             \n",
        "        \n",
        "    def act(self, action, train=True):\n",
        "        \"\"\"This function returns the new state, reward and decides if the\n",
        "        game ends.\"\"\"\n",
        "\n",
        "        self.get_frame(int(self.t))\n",
        "\n",
        "        self.position = np.zeros((self.grid_size, self.grid_size))\n",
        "\n",
        "        self.position[0:2,:]= -1\n",
        "        self.position[:,0:2] = -1\n",
        "        self.position[-2:, :] = -1\n",
        "        self.position[:, -2:] = -1\n",
        "\n",
        "        self.position[self.x, self.y] = 1\n",
        "        #directions of movement\n",
        "        if action == 0:\n",
        "            if self.x == self.grid_size-3:\n",
        "                self.x = self.x-1\n",
        "            else:\n",
        "                self.x = self.x + 1\n",
        "        elif action == 1:\n",
        "            if self.x == 2:\n",
        "                self.x = self.x+1\n",
        "            else:\n",
        "                self.x = self.x-1\n",
        "        elif action == 2:\n",
        "            if self.y == self.grid_size - 3:\n",
        "                self.y = self.y - 1\n",
        "            else:\n",
        "                self.y = self.y + 1\n",
        "        elif action == 3:\n",
        "            if self.y == 2:\n",
        "                self.y = self.y + 1\n",
        "            else:\n",
        "                self.y = self.y - 1\n",
        "        else:\n",
        "            RuntimeError('Error: action not recognized')\n",
        "        \n",
        "        self.t = self.t + 1\n",
        "        \n",
        "        ## In Environment exploring:\n",
        "        # You will have to change n_state to 3 because you will use one more layer!\n",
        "        reward = 0\n",
        "        if train:\n",
        "            reward -= self.malus_position[self.x, self.y]\n",
        "\n",
        "        self.malus_position[self.x, self.y] = 0.01\n",
        "        reward = reward + self.board[self.x, self.y]\n",
        "        self.board[self.x, self.y] = 0\n",
        "        game_over = self.t > self.max_time\n",
        "\n",
        "        # 3 \"feature\" states instead of 2\n",
        "        state = np.concatenate((self.malus_position.reshape(self.grid_size, self.grid_size,1),\n",
        "                                self.board.reshape(self.grid_size, self.grid_size,1),\n",
        "                                self.position.reshape(self.grid_size, self.grid_size,1)),axis=2)\n",
        "        \n",
        "        state = state[self.x-2:self.x+3,self.y-2:self.y+3,:]\n",
        "        \n",
        "        return state, reward, game_over\n",
        "    \n",
        "    \n",
        "    def reset(self):\n",
        "        \"\"\"This function resets the game and returns the initial state\"\"\"\n",
        "\n",
        "        self.x = np.random.randint(3, self.grid_size-3, size=1)[0]\n",
        "        self.y = np.random.randint(3, self.grid_size-3, size=1)[0]\n",
        "\n",
        "\n",
        "        bonus = 0.5*np.random.binomial(1,self.temperature,size=self.grid_size**2)\n",
        "        bonus = bonus.reshape(self.grid_size,self.grid_size)\n",
        "\n",
        "        malus = -1.0*np.random.binomial(1,self.temperature,size=self.grid_size**2)\n",
        "        malus = malus.reshape(self.grid_size, self.grid_size)\n",
        "\n",
        "        self.to_draw = np.zeros((self.max_time+2, self.grid_size*self.scale, self.grid_size*self.scale, 3))\n",
        "\n",
        "\n",
        "        malus[bonus>0]=0\n",
        "\n",
        "        self.board = bonus + malus\n",
        "\n",
        "        self.position = np.zeros((self.grid_size, self.grid_size))\n",
        "        self.position[0:2,:]= -1\n",
        "        self.position[:,0:2] = -1\n",
        "        self.position[-2:, :] = -1\n",
        "        self.position[:, -2:] = -1\n",
        "        self.board[self.x,self.y] = 0\n",
        "       \n",
        "        self.malus_position[self.x, self.y] = 0\n",
        "\n",
        "        self.t = 0\n",
        "\n",
        "        state = np.concatenate((self.malus_position.reshape(self.grid_size, self.grid_size,1),\n",
        "                                self.board.reshape(self.grid_size, self.grid_size,1),\n",
        "                                self.position.reshape(self.grid_size, self.grid_size,1)),axis=2)\n",
        "\n",
        "        state = state[self.x - 2:self.x + 3, self.y - 2:self.y + 3, :]\n",
        "        \n",
        "        return state"
      ],
      "execution_count": 0,
      "outputs": []
    },
    {
      "metadata": {
        "id": "5PmZ22P4LoqF",
        "colab_type": "code",
        "outputId": "42ed603a-8f51-4d7f-8cc4-1b708d8a5c77",
        "colab": {
          "base_uri": "https://localhost:8080/",
          "height": 542
        }
      },
      "cell_type": "code",
      "source": [
        "env = EnvironmentExploring(grid_size=size, max_time=T, temperature=0.3)\n",
        "agent = DQN_CNN(lr=.1, grid_size=size,  epsilon = 0.1, memory_size=16000, batch_size = 32,n_state=3)\n",
        "train_explore(agent, env, epochs_train, prefix='cnn_train_explore')\n",
        "HTML(display_videos('cnn_train_explore10.mp4'))"
      ],
      "execution_count": 0,
      "outputs": [
        {
          "output_type": "stream",
          "text": [
            "Epoch 000/020 | Loss 0.0041 | Win/lose count 3.0/5.769999999999962 (-2.7699999999999623)\n",
            "Epoch 001/020 | Loss 0.0041 | Win/lose count 3.46/4.839999999999964 (-1.3799999999999644)\n",
            "Epoch 002/020 | Loss 0.0017 | Win/lose count 4.98/3.8699999999999823 (1.110000000000018)\n",
            "Epoch 003/020 | Loss 0.0015 | Win/lose count 4.940000000000001/4.819999999999983 (0.12000000000001787)\n",
            "Epoch 004/020 | Loss 0.0112 | Win/lose count 7.370000000000002/2.789999999999984 (4.580000000000018)\n",
            "Epoch 005/020 | Loss 0.0075 | Win/lose count 10.350000000000003/2.739999999999985 (7.610000000000018)\n",
            "Epoch 006/020 | Loss 0.0505 | Win/lose count 6.8900000000000015/2.869999999999985 (4.0200000000000164)\n",
            "Epoch 007/020 | Loss 0.0771 | Win/lose count 4.410000000000001/4.9099999999999815 (-0.49999999999998046)\n",
            "Epoch 008/020 | Loss 0.0254 | Win/lose count 3.920000000000001/6.919999999999961 (-2.99999999999996)\n",
            "Epoch 009/020 | Loss 0.0011 | Win/lose count 3.4400000000000004/2.9399999999999804 (0.50000000000002)\n",
            "Epoch 010/020 | Loss 0.0065 | Win/lose count 4.470000000000001/4.789999999999963 (-0.3199999999999621)\n",
            "Epoch 011/020 | Loss 0.0056 | Win/lose count 4.410000000000001/1.9200000000000015 (2.4899999999999993)\n",
            "Epoch 012/020 | Loss 0.0071 | Win/lose count 3.4300000000000006/1.9400000000000015 (1.489999999999999)\n",
            "Epoch 013/020 | Loss 0.0023 | Win/lose count 4.410000000000001/3.919999999999963 (0.49000000000003796)\n",
            "Epoch 014/020 | Loss 0.0157 | Win/lose count 11.780000000000003/4.749999999999976 (7.030000000000027)\n",
            "Epoch 015/020 | Loss 0.0748 | Win/lose count 4.410000000000001/2.9199999999999844 (1.4900000000000166)\n",
            "Epoch 016/020 | Loss 0.0093 | Win/lose count 3.4699999999999998/3.8699999999999823 (-0.3999999999999826)\n",
            "Epoch 017/020 | Loss 0.0172 | Win/lose count 8.350000000000001/1.8300000000000014 (6.52)\n",
            "Epoch 018/020 | Loss 0.0019 | Win/lose count 5.880000000000002/4.849999999999986 (1.0300000000000153)\n",
            "Epoch 019/020 | Loss 0.0371 | Win/lose count 9.310000000000002/1.8000000000000014 (7.510000000000001)\n",
            "Final score: 1.8810000000000193\n"
          ],
          "name": "stdout"
        },
        {
          "output_type": "execute_result",
          "data": {
            "text/html": [
              "<video alt=\"test\" controls>\n",
              "                <source src=\"data:video/mp4;base64,AAAAIGZ0eXBpc29tAAACAGlzb21pc28yYXZjMW1wNDEAAAAIZnJlZQAAFqNtZGF0AAACrQYF//+p3EXpvebZSLeWLNgg2SPu73gyNjQgLSBjb3JlIDE1MiByMjg1NCBlOWE1OTAzIC0gSC4yNjQvTVBFRy00IEFWQyBjb2RlYyAtIENvcHlsZWZ0IDIwMDMtMjAxNyAtIGh0dHA6Ly93d3cudmlkZW9sYW4ub3JnL3gyNjQuaHRtbCAtIG9wdGlvbnM6IGNhYmFjPTEgcmVmPTMgZGVibG9jaz0xOjA6MCBhbmFseXNlPTB4MToweDExMSBtZT1oZXggc3VibWU9NyBwc3k9MSBwc3lfcmQ9MS4wMDowLjAwIG1peGVkX3JlZj0xIG1lX3JhbmdlPTE2IGNocm9tYV9tZT0xIHRyZWxsaXM9MSA4eDhkY3Q9MCBjcW09MCBkZWFkem9uZT0yMSwxMSBmYXN0X3Bza2lwPTEgY2hyb21hX3FwX29mZnNldD00IHRocmVhZHM9MyBsb29rYWhlYWRfdGhyZWFkcz0xIHNsaWNlZF90aHJlYWRzPTAgbnI9MCBkZWNpbWF0ZT0xIGludGVybGFjZWQ9MCBibHVyYXlfY29tcGF0PTAgY29uc3RyYWluZWRfaW50cmE9MCBiZnJhbWVzPTMgYl9weXJhbWlkPTIgYl9hZGFwdD0xIGJfYmlhcz0wIGRpcmVjdD0xIHdlaWdodGI9MSBvcGVuX2dvcD0wIHdlaWdodHA9MiBrZXlpbnQ9MjUwIGtleWludF9taW49MjUgc2NlbmVjdXQ9NDAgaW50cmFfcmVmcmVzaD0wIHJjX2xvb2thaGVhZD00MCByYz1jcmYgbWJ0cmVlPTEgY3JmPTIzLjAgcWNvbXA9MC42MCBxcG1pbj0wIHFwbWF4PTY5IHFwc3RlcD00IGlwX3JhdGlvPTEuNDAgYXE9MToxLjAwAIAAAALsZYiEADP//vaG+BTYUyP+T7/8I/+5H7cfWfrixkIJvrVeQ9GAMl8a/5lGYaXpyc8t7R+vTNAEZz8ZS8pY/so8y5CMyOpB8ClwE+/AppMi9UgzblLMMajLAeUnat3MIwuTM/4GsaJBVCFFnTxXV0kkDB9RZrM4BVjXUADjZ2djPOKlT76sPNI8BVACN8rd7cAdaNALSpLoXWlrFF9TwuRHSNJ2aENAhnPO0dxBVQUZQAAM8/gOKdNKjKerpn6Sii7vMfJfFzEdWXaLS3PLS16sdxUGU6V8pEhbx5Yvr50zoGsZ/lWBDYhcUCSLBoyWIP3OMI2N6gW4LSDwmcuIEZ47U4l0gOC/+UlA378ZJksM7j9xVNSuYEQBwXj7ffaPk3ltvkJwOPI2ORmVyiDGCkjNHdppEfwu2vRLfoZbWgBWkfx5E99rNr5PPOSbeYzHkBgOeYf6GzfgX+SKFlnLxDuhF6zrGJksUAWacIfHAroCSCemk8z2AdeAWejUJML5E+pahXISk4jF6JtReJQMdx/6Rz+vpA2PgfyDaHRXcpXTa+zef4ad8fiH7t131I6riFrt6FshEHiKLBtvraz2iUUFCSgwxkcYKnqr1CgmxBXmMYk4wBSAAAe/CV8EwnlRRqPK3cbZm5ofkhz+tHJyu56qNjrA3SV/9g9LASKAmTo8VUMsVl9DsozS8X00AisPb0adQ677hanCxSgG+ZA3gq8TKrsGV02D3AFcBFFmtxj50IKNeKgfuQl9A77ftlAW+CXznvJWsBtxHYVtsovgTIzWcXT3LtdNzAKSHgBhwpHvsgIXCWBlACqKBoPHHrSSh6QQg41Lk+VofAm+CVUkdyszUaxDD64MWe4EamU7Z6ad3NYxyb31HtX/saEDdjJmm6UnVIFa2I654DB+yriJR0HwE+08ewxVLq2W3xFXNxusSDffBIFutEhID7cOP6E52xOgS1PADB4qui1lrPcgpINSb4gLzqRztZl1rAAD+wAAABNBmiFsQ3/+p4QACLfRzSBWZTfuAAAAHUGaQzwhkymEN//+p4QADNurZif6u3x/ofqUfOPTAAAAEAGeYmpCvwAKhZEJuM+vVrgAAAAaQZpkSeEPJlMCG//+p4QADO+ys8+P8Pq29hEAAAAZQZqFSeEPJlMCHf/+qZYACcIsN0YhHPsbMQAAACZBmqlJ4Q8mUwId//6plgAJz8ef0FyKs8yytNz/gUyPnfAoE9Q3wQAAABVBnsdFETwv/wAMP65Yzb4/O1ha7zEAAAAPAZ7mdEK/ABBfMGDZjiamAAAAEAGe6GpCvwAQ3NG80xVta0AAAAAnQZrsSahBaJlMCHf//qmWAAbT2l/aDcB5llapm/ApRHn4FM1y3EUhAAAAEkGfCkURLCv/AAsTcoVLRL/chwAAABABnytqQr8AB22YPJcz5SmAAAAAH0GbMEmoQWyZTAhv//6nhAAJd8jgOb87b8RMzU26RFMAAAAeQZ9ORRUsL/8ABcKJ7mWUxRjmWAeDmWQbqK9jxSHhAAAADwGfbXRCvwAHxikxvUEcJQAAABABn29qQr8AB8QXnOtDDAfAAAAAG0Gbc0moQWyZTAhv//6nhAAJagCzbGJ9jp9cawAAABJBn5FFFSwr/wAHmZ30LckWGIEAAAAQAZ+yakK/AAeZmDyYHr5ZgAAAAB1Bm7RJqEFsmUwId//+qZYABOaeDnqChEejH60+kAAAAB1Bm9hJ4QpSZTAhv/6nhAAXP0ZD1XAY/DNlusfUhwAAABFBn/ZFNEwv/wAN0q1KtS5gHAAAAA8BnhV0Qr8AB8S/FwH5ssEAAAAQAZ4XakK/ABLdnjlf24gvwQAAABpBmhlJqEFomUwId//+qZYAEgRYboxDOfiXcAAAACBBmjtJ4QpSZTBREsO//qmWACt/Is1AH2A/7l0h572BgQAAABABnlpqQr8ARXZ45X9uH49AAAAAFkGaX0nhDomUwId//qmWACqe+r7nw8EAAAAUQZ59RRU8L/8ATWPn0WK7iz76Ay8AAAAQAZ6cdEK/AGmk0InxZijfSAAAABABnp5qQr8AbBm5rjxVtJQgAAAAE0Gag0moQWiZTAh3//6plgAAlYEAAAAMQZ6hRREsL/8AALKAAAAAEAGewHRCvwBsLKu6wFnSucEAAAAQAZ7CakK/AGwSti9ZDcklwAAAABNBmsdJqEFsmUwId//+qZYAAJWBAAAADEGe5UUVLC//AACygQAAABABnwR0Qr8AbCyrusBZ0rnBAAAAEAGfBmpCvwBElSO9nj7d5oEAAAATQZsLSahBbJlMCHf//qmWAACVgAAAABVBnylFFSwv/wBNY+fRYruF1CcSJ8AAAAAQAZ9IdEK/AGmk0InxZijfSQAAABABn0pqQr8AbBm5rjxVtJQgAAAAE0GbT0moQWyZTAh3//6plgAAlYAAAAAMQZ9tRRUsL/8AALKBAAAAEAGfjHRCvwBsLKu6wFnSucEAAAAQAZ+OakK/AGwSti9ZDcklwQAAABNBm5NJqEFsmUwId//+qZYAAJWAAAAADEGfsUUVLC//AACygAAAABABn9B0Qr8AbCyrusBZ0rnBAAAAEAGf0mpCvwBsErYvWQ3JJcAAAAATQZvXSahBbJlMCHf//qmWAACVgAAAAAxBn/VFFSwv/wAAsoEAAAAQAZ4UdEK/AGwsq7rAWdK5wAAAABABnhZqQr8AbBK2L1kNySXBAAAAE0GaG0moQWyZTAh3//6plgAAlYEAAAAMQZ45RRUsL/8AALKAAAAAEAGeWHRCvwBsLKu6wFnSucEAAAAQAZ5aakK/AESVI72ePt3mgAAAABNBml9JqEFsmUwId//+qZYAAJWBAAAAFUGefUUVLC//AE1j59Fiu4XUJxInwQAAABABnpx0Qr8AaaTQifFmKN9IAAAAEAGenmpCvwBsGbmuPFW0lCAAAAAbQZqDSahBbJlMCHf//qmWAEAVOI/wEAf39iX3AAAAEEGeoUUVLC//AE1z9zhZRPgAAAAPAZ7AdEK/AEVtGLgPy3TBAAAAEAGewmpCvwBpnbhNxn16b6QAAAAbQZrHSahBbJlMCHf//qmWAEB+l0Dh/sWs4iX3AAAAEEGe5UUVLC//AE1oDl5FE+EAAAAQAZ8EdEK/AGweTeVsoekoQQAAAA8BnwZqQr8AbBK2MKzaucEAAAATQZsLSahBbJlMCHf//qmWAACVgAAAAAxBnylFFSwv/wAAsoAAAAAQAZ9IdEK/AGwsq7rAWdK5wQAAABABn0pqQr8AbBK2L1kNySXAAAAAE0GbT0moQWyZTAh3//6plgAAlYAAAAAMQZ9tRRUsL/8AALKBAAAAEAGfjHRCvwBsLKu6wFnSucEAAAAQAZ+OakK/AGwSti9ZDcklwQAAABNBm5NJqEFsmUwId//+qZYAAJWAAAAADEGfsUUVLC//AACygAAAABABn9B0Qr8AbCyrusBZ0rnBAAAAEAGf0mpCvwBsErYvWQ3JJcAAAAATQZvXSahBbJlMCHf//qmWAACVgAAAAAxBn/VFFSwv/wAAsoEAAAAQAZ4UdEK/AGwsq7rAWdK5wAAAABABnhZqQr8AbBK2L1kNySXBAAAAE0GaG0moQWyZTAh3//6plgAAlYEAAAAMQZ45RRUsL/8AALKAAAAAEAGeWHRCvwBsLKu6wFnSucEAAAAQAZ5aakK/AGwSti9ZDcklwAAAABNBml9JqEFsmUwId//+qZYAAJWBAAAADEGefUUVLC//AACygQAAABABnpx0Qr8AbCyrusBZ0rnAAAAAEAGenmpCvwBsErYvWQ3JJcAAAAATQZqDSahBbJlMCHf//qmWAACVgQAAAAxBnqFFFSwv/wAAsoAAAAAQAZ7AdEK/AGwsq7rAWdK5wQAAABABnsJqQr8AbBK2L1kNySXAAAAAE0Gax0moQWyZTAh3//6plgAAlYEAAAAMQZ7lRRUsL/8AALKBAAAAEAGfBHRCvwBsLKu6wFnSucEAAAAQAZ8GakK/AGwSti9ZDcklwQAAABNBmwtJqEFsmUwId//+qZYAAJWAAAAADEGfKUUVLC//AACygAAAABABn0h0Qr8AbCyrusBZ0rnBAAAAEAGfSmpCvwBsErYvWQ3JJcAAAAATQZtPSahBbJlMCHf//qmWAACVgAAAAAxBn21FFSwv/wAAsoEAAAAQAZ+MdEK/AGwsq7rAWdK5wQAAABABn45qQr8AbBK2L1kNySXBAAAAE0Gbk0moQWyZTAh3//6plgAAlYAAAAAMQZ+xRRUsL/8AALKAAAAAEAGf0HRCvwBsLKu6wFnSucEAAAAQAZ/SakK/AGwSti9ZDcklwAAAABNBm9dJqEFsmUwId//+qZYAAJWAAAAADEGf9UUVLC//AACygQAAABABnhR0Qr8AbCyrusBZ0rnAAAAAEAGeFmpCvwBsErYvWQ3JJcEAAAATQZobSahBbJlMCHf//qmWAACVgQAAAAxBnjlFFSwv/wAAsoAAAAAQAZ5YdEK/AGwsq7rAWdK5wQAAABABnlpqQr8AbBK2L1kNySXAAAAAE0GaX0moQWyZTAh3//6plgAAlYEAAAAMQZ59RRUsL/8AALKBAAAAEAGenHRCvwBsLKu6wFnSucAAAAAQAZ6eakK/AGwSti9ZDcklwAAAABNBmoNJqEFsmUwId//+qZYAAJWBAAAADEGeoUUVLC//AACygAAAABABnsB0Qr8AbCyrusBZ0rnBAAAAEAGewmpCvwBsErYvWQ3JJcAAAAAeQZrHSahBbJlMCHf//qmWAEAKOoQZoFPpVA4f7EvvAAAAEEGe5UUVLC//AE1z9zhZRPkAAAAPAZ8EdEK/AEVtGLgPy3TBAAAAEAGfBmpCvwBpnbhNxn16b6UAAAAaQZsJSahBbJlMFEw7//6plgBAfo5+ZsUyJfcAAAAQAZ8oakK/AGwZua48VbSUIAAAABpBmy1J4QpSZTAh3/6plgBAFTiP8BAH9/Yl9wAAABBBn0tFNEwv/wBNc/c4WUT4AAAADwGfanRCvwBFbRi4D8t0wAAAABABn2xqQr8AaZ24TcZ9em+lAAAAG0GbcUmoQWiZTAh3//6plgBAfpdA4f7FrOIl9wAAABBBn49FESwv/wBNaA5eRRPhAAAAEAGfrnRCvwBsHk3lbKHpKEAAAAAPAZ+wakK/AGwStjCs2rnAAAAAE0GbtUmoQWyZTAh3//6plgAAlYEAAAAMQZ/TRRUsL/8AALKAAAAAEAGf8nRCvwBsLKu6wFnSucAAAAAQAZ/0akK/AGwSti9ZDcklwQAAABNBm/lJqEFsmUwId//+qZYAAJWAAAAADEGeF0UVLC//AACygQAAABABnjZ0Qr8AbCyrusBZ0rnBAAAAEAGeOGpCvwBsErYvWQ3JJcAAAAATQZo9SahBbJlMCHf//qmWAACVgQAAAAxBnltFFSwv/wAAsoAAAAAQAZ56dEK/AGwsq7rAWdK5wQAAABABnnxqQr8AbBK2L1kNySXBAAAAE0GaYUmoQWyZTAh3//6plgAAlYAAAAAMQZ6fRRUsL/8AALKAAAAAEAGevnRCvwBsLKu6wFnSucEAAAAQAZ6gakK/AGwSti9ZDcklwAAAABNBmqVJqEFsmUwId//+qZYAAJWBAAAADEGew0UVLC//AACygAAAABABnuJ0Qr8AbCyrusBZ0rnBAAAAEAGe5GpCvwBsErYvWQ3JJcEAAAATQZrpSahBbJlMCHf//qmWAACVgQAAAAxBnwdFFSwv/wAAsoEAAAAQAZ8mdEK/AGwsq7rAWdK5wAAAABABnyhqQr8AbBK2L1kNySXAAAAAHkGbLUmoQWyZTAh3//6plgBACjqEGaBT6VQOH+xL7wAAABBBn0tFFSwv/wBNc/c4WUT4AAAADwGfanRCvwBFbRi4D8t0wAAAABABn2xqQr8AaZ24TcZ9em+lAAAAG0GbcUmoQWyZTAh3//6plgBAfpdDE/qHJ0iX3QAAABBBn49FFSwv/wBNaA5eRRPhAAAAEAGfrnRCvwBsHk3lbKHpKEAAAAAPAZ+wakK/AGwStjCs2rnAAAAAE0GbtUmoQWyZTAh3//6plgAAlYEAAAARQZ/TRRUsL/8ATXjPzvIUT4AAAAAQAZ/ydEK/AGmk0InxZijfSAAAABABn/RqQr8AbBm5rjxVtJQhAAAAE0Gb+UmoQWyZTAh3//6plgAAlYAAAAAQQZ4XRRUsL/8ATX0EWOAonwAAABABnjZ0Qr8AaaTQifFmKN9JAAAAEAGeOGpCvwBsGbmuPFW0lCAAAAATQZo9SahBbJlMCHf//qmWAACVgQAAABBBnltFFSwv/wBNfQRY4CifAAAAEAGeenRCvwBppNCJ8WYo30kAAAAQAZ58akK/AGwZua48VbSUIQAAABJBmmFJqEFsmUwIb//+p4QAAScAAAAQQZ6fRRUsL/8ATX0EWOAonwAAABABnr50Qr8AaaTQifFmKN9JAAAAEAGeoGpCvwBsGbmuPFW0lCAAAAAbQZqlSahBbJlMCGf//p4QAfBCPkdj4Cmfxi3pAAAAEEGew0UVLC//AE1z9zhZRPgAAAAPAZ7idEK/AEVtGLgPy3TBAAAAEAGe5GpCvwBpnbhNxn16b6UAAAAaQZrnSahBbJlMFEwz//6eEAHy9/f1DbVb6KEAAAAQAZ8GakK/AGwZua48VbSUIQAAABtBmwlL4QhClJEYIKAfyAf2HgFLCv/+OEAAEXAAAAAkAZ8oakK/Aq9j7UHE3arDSSblqoYHLLXQOsN6YLe1ShxcEdRnAAAMaG1vb3YAAABsbXZoZAAAAAAAAAAAAAAAAAAAA+gAAB+QAAEAAAEAAAAAAAAAAAAAAAABAAAAAAAAAAAAAAAAAAAAAQAAAAAAAAAAAAAAAAAAQAAAAAAAAAAAAAAAAAAAAAAAAAAAAAAAAAAAAAAAAAIAAAuSdHJhawAAAFx0a2hkAAAAAwAAAAAAAAAAAAAAAQAAAAAAAB+QAAAAAAAAAAAAAAAAAAAAAAABAAAAAAAAAAAAAAAAAAAAAQAAAAAAAAAAAAAAAAAAQAAAAAEQAAABEAAAAAAAJGVkdHMAAAAcZWxzdAAAAAAAAAABAAAfkAAABAAAAQAAAAALCm1kaWEAAAAgbWRoZAAAAAAAAAAAAAAAAAAAMgAAAZQAVcQAAAAAAC1oZGxyAAAAAAAAAAB2aWRlAAAAAAAAAAAAAAAAVmlkZW9IYW5kbGVyAAAACrVtaW5mAAAAFHZtaGQAAAABAAAAAAAAAAAAAAAkZGluZgAAABxkcmVmAAAAAAAAAAEAAAAMdXJsIAAAAAEAAAp1c3RibAAAAJVzdHNkAAAAAAAAAAEAAACFYXZjMQAAAAAAAAABAAAAAAAAAAAAAAAAAAAAAAEQARAASAAAAEgAAAAAAAAAAQAAAAAAAAAAAAAAAAAAAAAAAAAAAAAAAAAAAAAAAAAAABj//wAAAC9hdmNDAfQADf/hABdn9AANkZsoIhHQgAAAAwCAAAAZB4oUywEABWjr48RIAAAAGHN0dHMAAAAAAAAAAQAAAMoAAAIAAAAAFHN0c3MAAAAAAAAAAQAAAAEAAAZAY3R0cwAAAAAAAADGAAAAAgAABAAAAAABAAAGAAAAAAEAAAIAAAAAAgAABAAAAAABAAAKAAAAAAEAAAQAAAAAAQAAAAAAAAABAAACAAAAAAEAAAgAAAAAAgAAAgAAAAABAAAKAAAAAAEAAAQAAAAAAQAAAAAAAAABAAACAAAAAAEAAAgAAAAAAgAAAgAAAAABAAAEAAAAAAEAAAoAAAAAAQAABAAAAAABAAAAAAAAAAEAAAIAAAAAAQAABAAAAAABAAAGAAAAAAEAAAIAAAAAAQAACgAAAAABAAAEAAAAAAEAAAAAAAAAAQAAAgAAAAABAAAKAAAAAAEAAAQAAAAAAQAAAAAAAAABAAACAAAAAAEAAAoAAAAAAQAABAAAAAABAAAAAAAAAAEAAAIAAAAAAQAACgAAAAABAAAEAAAAAAEAAAAAAAAAAQAAAgAAAAABAAAKAAAAAAEAAAQAAAAAAQAAAAAAAAABAAACAAAAAAEAAAoAAAAAAQAABAAAAAABAAAAAAAAAAEAAAIAAAAAAQAACgAAAAABAAAEAAAAAAEAAAAAAAAAAQAAAgAAAAABAAAKAAAAAAEAAAQAAAAAAQAAAAAAAAABAAACAAAAAAEAAAoAAAAAAQAABAAAAAABAAAAAAAAAAEAAAIAAAAAAQAACgAAAAABAAAEAAAAAAEAAAAAAAAAAQAAAgAAAAABAAAKAAAAAAEAAAQAAAAAAQAAAAAAAAABAAACAAAAAAEAAAoAAAAAAQAABAAAAAABAAAAAAAAAAEAAAIAAAAAAQAACgAAAAABAAAEAAAAAAEAAAAAAAAAAQAAAgAAAAABAAAKAAAAAAEAAAQAAAAAAQAAAAAAAAABAAACAAAAAAEAAAoAAAAAAQAABAAAAAABAAAAAAAAAAEAAAIAAAAAAQAACgAAAAABAAAEAAAAAAEAAAAAAAAAAQAAAgAAAAABAAAKAAAAAAEAAAQAAAAAAQAAAAAAAAABAAACAAAAAAEAAAoAAAAAAQAABAAAAAABAAAAAAAAAAEAAAIAAAAAAQAACgAAAAABAAAEAAAAAAEAAAAAAAAAAQAAAgAAAAABAAAKAAAAAAEAAAQAAAAAAQAAAAAAAAABAAACAAAAAAEAAAoAAAAAAQAABAAAAAABAAAAAAAAAAEAAAIAAAAAAQAACgAAAAABAAAEAAAAAAEAAAAAAAAAAQAAAgAAAAABAAAKAAAAAAEAAAQAAAAAAQAAAAAAAAABAAACAAAAAAEAAAoAAAAAAQAABAAAAAABAAAAAAAAAAEAAAIAAAAAAQAACgAAAAABAAAEAAAAAAEAAAAAAAAAAQAAAgAAAAABAAAKAAAAAAEAAAQAAAAAAQAAAAAAAAABAAACAAAAAAEAAAoAAAAAAQAABAAAAAABAAAAAAAAAAEAAAIAAAAAAQAABgAAAAABAAACAAAAAAEAAAoAAAAAAQAABAAAAAABAAAAAAAAAAEAAAIAAAAAAQAACgAAAAABAAAEAAAAAAEAAAAAAAAAAQAAAgAAAAABAAAKAAAAAAEAAAQAAAAAAQAAAAAAAAABAAACAAAAAAEAAAoAAAAAAQAABAAAAAABAAAAAAAAAAEAAAIAAAAAAQAACgAAAAABAAAEAAAAAAEAAAAAAAAAAQAAAgAAAAABAAAKAAAAAAEAAAQAAAAAAQAAAAAAAAABAAACAAAAAAEAAAoAAAAAAQAABAAAAAABAAAAAAAAAAEAAAIAAAAAAQAACgAAAAABAAAEAAAAAAEAAAAAAAAAAQAAAgAAAAABAAAKAAAAAAEAAAQAAAAAAQAAAAAAAAABAAACAAAAAAEAAAoAAAAAAQAABAAAAAABAAAAAAAAAAEAAAIAAAAAAQAACgAAAAABAAAEAAAAAAEAAAAAAAAAAQAAAgAAAAABAAAKAAAAAAEAAAQAAAAAAQAAAAAAAAABAAACAAAAAAEAAAoAAAAAAQAABAAAAAABAAAAAAAAAAEAAAIAAAAAAQAACgAAAAABAAAEAAAAAAEAAAAAAAAAAQAAAgAAAAABAAAKAAAAAAEAAAQAAAAAAQAAAAAAAAABAAACAAAAAAEAAAYAAAAAAQAAAgAAAAABAAAGAAAAAAEAAAIAAAAAHHN0c2MAAAAAAAAAAQAAAAEAAADKAAAAAQAAAzxzdHN6AAAAAAAAAAAAAADKAAAFoQAAABcAAAAhAAAAFAAAAB4AAAAdAAAAKgAAABkAAAATAAAAFAAAACsAAAAWAAAAFAAAACMAAAAiAAAAEwAAABQAAAAfAAAAFgAAABQAAAAhAAAAIQAAABUAAAATAAAAFAAAAB4AAAAkAAAAFAAAABoAAAAYAAAAFAAAABQAAAAXAAAAEAAAABQAAAAUAAAAFwAAABAAAAAUAAAAFAAAABcAAAAZAAAAFAAAABQAAAAXAAAAEAAAABQAAAAUAAAAFwAAABAAAAAUAAAAFAAAABcAAAAQAAAAFAAAABQAAAAXAAAAEAAAABQAAAAUAAAAFwAAABkAAAAUAAAAFAAAAB8AAAAUAAAAEwAAABQAAAAfAAAAFAAAABQAAAATAAAAFwAAABAAAAAUAAAAFAAAABcAAAAQAAAAFAAAABQAAAAXAAAAEAAAABQAAAAUAAAAFwAAABAAAAAUAAAAFAAAABcAAAAQAAAAFAAAABQAAAAXAAAAEAAAABQAAAAUAAAAFwAAABAAAAAUAAAAFAAAABcAAAAQAAAAFAAAABQAAAAXAAAAEAAAABQAAAAUAAAAFwAAABAAAAAUAAAAFAAAABcAAAAQAAAAFAAAABQAAAAXAAAAEAAAABQAAAAUAAAAFwAAABAAAAAUAAAAFAAAABcAAAAQAAAAFAAAABQAAAAXAAAAEAAAABQAAAAUAAAAIgAAABQAAAATAAAAFAAAAB4AAAAUAAAAHgAAABQAAAATAAAAFAAAAB8AAAAUAAAAFAAAABMAAAAXAAAAEAAAABQAAAAUAAAAFwAAABAAAAAUAAAAFAAAABcAAAAQAAAAFAAAABQAAAAXAAAAEAAAABQAAAAUAAAAFwAAABAAAAAUAAAAFAAAABcAAAAQAAAAFAAAABQAAAAiAAAAFAAAABMAAAAUAAAAHwAAABQAAAAUAAAAEwAAABcAAAAVAAAAFAAAABQAAAAXAAAAFAAAABQAAAAUAAAAFwAAABQAAAAUAAAAFAAAABYAAAAUAAAAFAAAABQAAAAfAAAAFAAAABMAAAAUAAAAHgAAABQAAAAfAAAAKAAAABRzdGNvAAAAAAAAAAEAAAAwAAAAYnVkdGEAAABabWV0YQAAAAAAAAAhaGRscgAAAAAAAAAAbWRpcmFwcGwAAAAAAAAAAAAAAAAtaWxzdAAAACWpdG9vAAAAHWRhdGEAAAABAAAAAExhdmY1Ny44My4xMDA=\" type=\"video/mp4\" />\n",
              "             </video>"
            ],
            "text/plain": [
              "<IPython.core.display.HTML object>"
            ]
          },
          "metadata": {
            "tags": []
          },
          "execution_count": 44
        }
      ]
    },
    {
      "metadata": {
        "id": "zHYzPqMOPX_0",
        "colab_type": "code",
        "colab": {}
      },
      "cell_type": "code",
      "source": [
        ""
      ],
      "execution_count": 0,
      "outputs": []
    },
    {
      "metadata": {
        "id": "Kc6bsH25PlVW",
        "colab_type": "code",
        "outputId": "3ab6e01f-dfac-4769-f7c8-a7277fb82c42",
        "colab": {
          "base_uri": "https://localhost:8080/",
          "height": 388
        }
      },
      "cell_type": "code",
      "source": [
        "# Evaluation\n",
        "test(agent,env,epochs_test,prefix='cnn_test_explore')\n",
        "HTML(display_videos('cnn_test_explore0.mp4'))"
      ],
      "execution_count": 0,
      "outputs": [
        {
          "output_type": "stream",
          "text": [
            "Win/lose count 21.56999999999999/1.5600000000000012. Average score (20.009999999999987)\n",
            "Win/lose count 5.8900000000000015/1.8900000000000015. Average score (12.004999999999994)\n",
            "Win/lose count 7.350000000000002/2.859999999999982. Average score (9.500000000000002)\n",
            "Win/lose count 5.3900000000000015/1.8900000000000015. Average score (8.000000000000002)\n",
            "Win/lose count 0.98/1.9900000000000015. Average score (6.198)\n",
            "Win/lose count 11.270000000000003/1.7700000000000014. Average score (6.748333333333334)\n",
            "Win/lose count 13.730000000000004/2.7299999999999853. Average score (7.355714285714289)\n",
            "Win/lose count 8.830000000000002/1.8200000000000014. Average score (7.312500000000003)\n",
            "Win/lose count 5.880000000000002/1.8800000000000014. Average score (6.944444444444446)\n",
            "Win/lose count 0.49/2.0000000000000013. Average score (6.099000000000002)\n",
            "Win/lose count 3.4300000000000006/2.939999999999981. Average score (5.589090909090913)\n",
            "Win/lose count 1.47/1.9800000000000015. Average score (5.080833333333337)\n",
            "Win/lose count 14.720000000000004/3.699999999999969. Average score (5.537692307692312)\n",
            "Win/lose count 15.200000000000005/3.6999999999999686. Average score (5.963571428571435)\n",
            "Win/lose count 7.8400000000000025/2.839999999999983. Average score (5.899333333333341)\n",
            "Win/lose count 5.880000000000002/3.8899999999999615. Average score (5.655000000000009)\n",
            "Win/lose count 2.45/2.9499999999999806. Average score (5.292941176470599)\n",
            "Win/lose count 13.720000000000004/1.7300000000000013. Average score (5.66500000000001)\n",
            "Win/lose count 7.350000000000002/1.8600000000000014. Average score (5.65578947368422)\n",
            "Win/lose count 10.310000000000002/2.789999999999984. Average score (5.74900000000001)\n",
            "Final score: 5.74900000000001\n"
          ],
          "name": "stdout"
        }
      ]
    },
    {
      "metadata": {
        "id": "-uaaf_q4PzDD",
        "colab_type": "code",
        "colab": {}
      },
      "cell_type": "code",
      "source": [
        ""
      ],
      "execution_count": 0,
      "outputs": []
    }
  ]
}